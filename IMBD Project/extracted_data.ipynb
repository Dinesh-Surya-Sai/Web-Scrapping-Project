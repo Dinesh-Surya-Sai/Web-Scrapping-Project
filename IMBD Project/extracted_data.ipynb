{
 "cells": [
  {
   "cell_type": "markdown",
   "id": "ea6154d0",
   "metadata": {},
   "source": [
    "# Innomatics Research Labs\n",
    "\n",
    "### Name  : K.Dinesh Surya Sai\n",
    "### Topic  : Web Scrapping Project  on Movie Recomendations "
   ]
  },
  {
   "cell_type": "code",
   "execution_count": null,
   "id": "ab77e68d",
   "metadata": {},
   "outputs": [],
   "source": []
  },
  {
   "cell_type": "code",
   "execution_count": null,
   "id": "f162e67e",
   "metadata": {},
   "outputs": [],
   "source": []
  },
  {
   "cell_type": "code",
   "execution_count": null,
   "id": "ea11f1d1",
   "metadata": {},
   "outputs": [],
   "source": []
  },
  {
   "cell_type": "markdown",
   "id": "2c05e341",
   "metadata": {},
   "source": [
    "## Importing the required libraries"
   ]
  },
  {
   "cell_type": "code",
   "execution_count": 15,
   "id": "95844796",
   "metadata": {},
   "outputs": [],
   "source": [
    "import requests\n",
    "from bs4 import BeautifulSoup\n",
    "import re\n",
    "import pandas as pd"
   ]
  },
  {
   "cell_type": "markdown",
   "id": "3fd1fc8f",
   "metadata": {},
   "source": [
    "### Extracting the data from the url"
   ]
  },
  {
   "cell_type": "code",
   "execution_count": 16,
   "id": "7bf56d13",
   "metadata": {},
   "outputs": [],
   "source": [
    "url='https://www.imdb.com/list/ls000634294/?sort=moviemeter,asc&st_dt=&mode=detail&page='\n"
   ]
  },
  {
   "cell_type": "code",
   "execution_count": 17,
   "id": "b6ff90ef",
   "metadata": {},
   "outputs": [],
   "source": [
    "urlss=[]\n",
    "for i in range(6):\n",
    "    urlss.append(url+str(i+1))"
   ]
  },
  {
   "cell_type": "code",
   "execution_count": 18,
   "id": "d5fdd424",
   "metadata": {},
   "outputs": [
    {
     "data": {
      "text/plain": [
       "['https://www.imdb.com/list/ls000634294/?sort=moviemeter,asc&st_dt=&mode=detail&page=1',\n",
       " 'https://www.imdb.com/list/ls000634294/?sort=moviemeter,asc&st_dt=&mode=detail&page=2',\n",
       " 'https://www.imdb.com/list/ls000634294/?sort=moviemeter,asc&st_dt=&mode=detail&page=3',\n",
       " 'https://www.imdb.com/list/ls000634294/?sort=moviemeter,asc&st_dt=&mode=detail&page=4',\n",
       " 'https://www.imdb.com/list/ls000634294/?sort=moviemeter,asc&st_dt=&mode=detail&page=5',\n",
       " 'https://www.imdb.com/list/ls000634294/?sort=moviemeter,asc&st_dt=&mode=detail&page=6']"
      ]
     },
     "execution_count": 18,
     "metadata": {},
     "output_type": "execute_result"
    }
   ],
   "source": [
    "urlss"
   ]
  },
  {
   "cell_type": "code",
   "execution_count": 19,
   "id": "c05ac3d2",
   "metadata": {},
   "outputs": [],
   "source": [
    "movie_name4 = []\n",
    "year_relase4 = []\n",
    "rating4 = []\n",
    "collection4 = []\n",
    "gener4 = []\n",
    "director4 =[]\n",
    "certificate4 = []\n",
    "votes4 = []\n",
    "duriation4 =[]"
   ]
  },
  {
   "cell_type": "code",
   "execution_count": 20,
   "id": "5e33ee35",
   "metadata": {},
   "outputs": [],
   "source": [
    "for i in urlss:\n",
    "    page = requests.get(i)\n",
    "    soup = BeautifulSoup(page.text)\n",
    "    \n",
    "    \n",
    "    for i in soup.find_all('h3',class_='lister-item-header'):\n",
    "        movie_name4.append(i.find_all('a')[0].text)\n",
    "        \n",
    "        \n",
    "   \n",
    "\n",
    "    for i in soup.find_all('span',class_='lister-item-year text-muted unbold'):\n",
    "        a_=i.text.split('(')[-1].split(')')[0]\n",
    "        year_relase4.append((a_))\n",
    "        \n",
    "    \n",
    "\n",
    "    for i in soup.find_all('div',class_='ipl-rating-star small'):\n",
    "        b_=i.text.replace('\\n','')\n",
    "        rating4.append(float(b_))\n",
    "        \n",
    "        \n",
    "    for i in range(2,300,3):\n",
    "        a_a=soup.find_all('p',class_='text-muted text-small')[i].find_all('span')[-1].text\n",
    "        collection4.append(a_a.split('$')[-1].split('M')[0])\n",
    "        \n",
    "    \n",
    "    for i in soup.find_all(\"p\",{\"class\":\"text-muted text-small\"}):\n",
    "        w = i.find_all(\"span\",{\"class\":\"genre\"})\n",
    "        for i in w:\n",
    "            for j in i:\n",
    "                gener4.append(j.strip())\n",
    "                \n",
    "    \n",
    "    for y in range(1,300,3):\n",
    "        director4.append(soup.find_all('p',{\"class\":\"text-muted text-small\"})[y].find_all(\"a\")[0].text)\n",
    "        \n",
    "    \n",
    "    for i in range(2,300,3):\n",
    "        a_a = soup.find_all('p',class_='text-muted text-small')[i].find_all('span')[1].text\n",
    "        votes4.append(a_a)\n",
    "        \n",
    "    \n",
    "    for i in soup.find_all('span',class_=\"runtime\"):\n",
    "        d_3=i.text.split()[0]\n",
    "        duriation4.append(int(d_3))"
   ]
  },
  {
   "cell_type": "markdown",
   "id": "51dd0154",
   "metadata": {},
   "source": [
    "# Creation of the data frame "
   ]
  },
  {
   "cell_type": "code",
   "execution_count": null,
   "id": "4f48f26b",
   "metadata": {},
   "outputs": [],
   "source": []
  },
  {
   "cell_type": "code",
   "execution_count": 21,
   "id": "93a18961",
   "metadata": {},
   "outputs": [],
   "source": [
    "IMBD = pd.DataFrame({\n",
    "    'Title':movie_name4,\n",
    "    'Release_Year':year_relase4,\n",
    "    'Duration':duriation4,\n",
    "    'Collection':collection4,\n",
    "    'Genre':gener4,\n",
    "    'Director':director4,\n",
    "    'Rating':rating4,\n",
    "    'Votes':votes4\n",
    "})"
   ]
  },
  {
   "cell_type": "code",
   "execution_count": 22,
   "id": "4feb0d64",
   "metadata": {},
   "outputs": [
    {
     "data": {
      "text/html": [
       "<div>\n",
       "<style scoped>\n",
       "    .dataframe tbody tr th:only-of-type {\n",
       "        vertical-align: middle;\n",
       "    }\n",
       "\n",
       "    .dataframe tbody tr th {\n",
       "        vertical-align: top;\n",
       "    }\n",
       "\n",
       "    .dataframe thead th {\n",
       "        text-align: right;\n",
       "    }\n",
       "</style>\n",
       "<table border=\"1\" class=\"dataframe\">\n",
       "  <thead>\n",
       "    <tr style=\"text-align: right;\">\n",
       "      <th></th>\n",
       "      <th>Title</th>\n",
       "      <th>Release_Year</th>\n",
       "      <th>Duration</th>\n",
       "      <th>Collection</th>\n",
       "      <th>Genre</th>\n",
       "      <th>Director</th>\n",
       "      <th>Rating</th>\n",
       "      <th>Votes</th>\n",
       "    </tr>\n",
       "  </thead>\n",
       "  <tbody>\n",
       "    <tr>\n",
       "      <th>0</th>\n",
       "      <td>The Walking Dead</td>\n",
       "      <td>2010–2022</td>\n",
       "      <td>44</td>\n",
       "      <td>960,865</td>\n",
       "      <td>Drama, Horror, Thriller</td>\n",
       "      <td>Andrew Lincoln</td>\n",
       "      <td>8.2</td>\n",
       "      <td>960,865</td>\n",
       "    </tr>\n",
       "    <tr>\n",
       "      <th>1</th>\n",
       "      <td>Predator</td>\n",
       "      <td>1987</td>\n",
       "      <td>107</td>\n",
       "      <td>59.74</td>\n",
       "      <td>Action, Adventure, Horror</td>\n",
       "      <td>John McTiernan</td>\n",
       "      <td>7.8</td>\n",
       "      <td>411,198</td>\n",
       "    </tr>\n",
       "    <tr>\n",
       "      <th>2</th>\n",
       "      <td>Predators</td>\n",
       "      <td>2010</td>\n",
       "      <td>107</td>\n",
       "      <td>52.00</td>\n",
       "      <td>Action, Adventure, Sci-Fi</td>\n",
       "      <td>Nimród Antal</td>\n",
       "      <td>6.4</td>\n",
       "      <td>227,827</td>\n",
       "    </tr>\n",
       "    <tr>\n",
       "      <th>3</th>\n",
       "      <td>Predator 2</td>\n",
       "      <td>1990</td>\n",
       "      <td>108</td>\n",
       "      <td>30.67</td>\n",
       "      <td>Action, Horror, Sci-Fi</td>\n",
       "      <td>Stephen Hopkins</td>\n",
       "      <td>6.3</td>\n",
       "      <td>164,417</td>\n",
       "    </tr>\n",
       "    <tr>\n",
       "      <th>4</th>\n",
       "      <td>The Godfather</td>\n",
       "      <td>1972</td>\n",
       "      <td>175</td>\n",
       "      <td>134.97</td>\n",
       "      <td>Crime, Drama</td>\n",
       "      <td>Francis Ford Coppola</td>\n",
       "      <td>9.2</td>\n",
       "      <td>1,819,087</td>\n",
       "    </tr>\n",
       "    <tr>\n",
       "      <th>...</th>\n",
       "      <td>...</td>\n",
       "      <td>...</td>\n",
       "      <td>...</td>\n",
       "      <td>...</td>\n",
       "      <td>...</td>\n",
       "      <td>...</td>\n",
       "      <td>...</td>\n",
       "      <td>...</td>\n",
       "    </tr>\n",
       "    <tr>\n",
       "      <th>595</th>\n",
       "      <td>Evan Almighty</td>\n",
       "      <td>2007</td>\n",
       "      <td>96</td>\n",
       "      <td>100.46</td>\n",
       "      <td>Comedy, Family, Fantasy</td>\n",
       "      <td>Tom Shadyac</td>\n",
       "      <td>5.4</td>\n",
       "      <td>147,385</td>\n",
       "    </tr>\n",
       "    <tr>\n",
       "      <th>596</th>\n",
       "      <td>Antz</td>\n",
       "      <td>1998</td>\n",
       "      <td>83</td>\n",
       "      <td>90.76</td>\n",
       "      <td>Animation, Adventure, Comedy</td>\n",
       "      <td>Eric Darnell</td>\n",
       "      <td>6.6</td>\n",
       "      <td>154,890</td>\n",
       "    </tr>\n",
       "    <tr>\n",
       "      <th>597</th>\n",
       "      <td>Bride &amp; Prejudice</td>\n",
       "      <td>2004</td>\n",
       "      <td>122</td>\n",
       "      <td>6.60</td>\n",
       "      <td>Comedy, Drama, Musical</td>\n",
       "      <td>Gurinder Chadha</td>\n",
       "      <td>6.2</td>\n",
       "      <td>20,887</td>\n",
       "    </tr>\n",
       "    <tr>\n",
       "      <th>598</th>\n",
       "      <td>Deuce Bigalow: European Gigolo</td>\n",
       "      <td>2005</td>\n",
       "      <td>83</td>\n",
       "      <td>22.26</td>\n",
       "      <td>Comedy</td>\n",
       "      <td>Mike Bigelow</td>\n",
       "      <td>4.6</td>\n",
       "      <td>51,030</td>\n",
       "    </tr>\n",
       "    <tr>\n",
       "      <th>599</th>\n",
       "      <td>The Crazies</td>\n",
       "      <td>2010</td>\n",
       "      <td>101</td>\n",
       "      <td>39.12</td>\n",
       "      <td>Adventure, Horror</td>\n",
       "      <td>Breck Eisner</td>\n",
       "      <td>6.5</td>\n",
       "      <td>120,951</td>\n",
       "    </tr>\n",
       "  </tbody>\n",
       "</table>\n",
       "<p>600 rows × 8 columns</p>\n",
       "</div>"
      ],
      "text/plain": [
       "                              Title Release_Year  Duration Collection  \\\n",
       "0                  The Walking Dead    2010–2022        44    960,865   \n",
       "1                          Predator         1987       107      59.74   \n",
       "2                         Predators         2010       107      52.00   \n",
       "3                        Predator 2         1990       108      30.67   \n",
       "4                     The Godfather         1972       175     134.97   \n",
       "..                              ...          ...       ...        ...   \n",
       "595                   Evan Almighty         2007        96     100.46   \n",
       "596                            Antz         1998        83      90.76   \n",
       "597               Bride & Prejudice         2004       122       6.60   \n",
       "598  Deuce Bigalow: European Gigolo         2005        83      22.26   \n",
       "599                     The Crazies         2010       101      39.12   \n",
       "\n",
       "                            Genre              Director  Rating      Votes  \n",
       "0         Drama, Horror, Thriller        Andrew Lincoln     8.2    960,865  \n",
       "1       Action, Adventure, Horror        John McTiernan     7.8    411,198  \n",
       "2       Action, Adventure, Sci-Fi          Nimród Antal     6.4    227,827  \n",
       "3          Action, Horror, Sci-Fi       Stephen Hopkins     6.3    164,417  \n",
       "4                    Crime, Drama  Francis Ford Coppola     9.2  1,819,087  \n",
       "..                            ...                   ...     ...        ...  \n",
       "595       Comedy, Family, Fantasy           Tom Shadyac     5.4    147,385  \n",
       "596  Animation, Adventure, Comedy          Eric Darnell     6.6    154,890  \n",
       "597        Comedy, Drama, Musical       Gurinder Chadha     6.2     20,887  \n",
       "598                        Comedy          Mike Bigelow     4.6     51,030  \n",
       "599             Adventure, Horror          Breck Eisner     6.5    120,951  \n",
       "\n",
       "[600 rows x 8 columns]"
      ]
     },
     "execution_count": 22,
     "metadata": {},
     "output_type": "execute_result"
    }
   ],
   "source": [
    "IMBD"
   ]
  },
  {
   "cell_type": "code",
   "execution_count": null,
   "id": "669514cf",
   "metadata": {},
   "outputs": [],
   "source": []
  },
  {
   "cell_type": "code",
   "execution_count": 25,
   "id": "dcf0bfd9",
   "metadata": {},
   "outputs": [
    {
     "data": {
      "text/plain": [
       "(600, 8)"
      ]
     },
     "execution_count": 25,
     "metadata": {},
     "output_type": "execute_result"
    }
   ],
   "source": [
    "IMBD.shape # finding the no:of rows and no:of columns"
   ]
  },
  {
   "cell_type": "raw",
   "id": "746377bc",
   "metadata": {},
   "source": [
    " The dataFrame consists of 600 rows and 8 columns"
   ]
  },
  {
   "cell_type": "code",
   "execution_count": null,
   "id": "7321e9e2",
   "metadata": {},
   "outputs": [],
   "source": []
  },
  {
   "cell_type": "markdown",
   "id": "3441a28a",
   "metadata": {},
   "source": [
    "## Exporting the data frame into the csv format"
   ]
  },
  {
   "cell_type": "code",
   "execution_count": 26,
   "id": "3f1c1d73",
   "metadata": {},
   "outputs": [],
   "source": [
    "IMBD.to_csv('IMBD.csv')"
   ]
  },
  {
   "cell_type": "code",
   "execution_count": null,
   "id": "2d4b2986",
   "metadata": {},
   "outputs": [],
   "source": []
  }
 ],
 "metadata": {
  "kernelspec": {
   "display_name": "Python 3 (ipykernel)",
   "language": "python",
   "name": "python3"
  },
  "language_info": {
   "codemirror_mode": {
    "name": "ipython",
    "version": 3
   },
   "file_extension": ".py",
   "mimetype": "text/x-python",
   "name": "python",
   "nbconvert_exporter": "python",
   "pygments_lexer": "ipython3",
   "version": "3.9.12"
  }
 },
 "nbformat": 4,
 "nbformat_minor": 5
}
