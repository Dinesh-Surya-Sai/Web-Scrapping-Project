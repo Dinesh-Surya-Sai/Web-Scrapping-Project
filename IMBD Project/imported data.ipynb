{
 "cells": [
  {
   "cell_type": "markdown",
   "id": "6660b6f3",
   "metadata": {},
   "source": [
    "## importing Libraries"
   ]
  },
  {
   "cell_type": "code",
   "execution_count": 63,
   "id": "6b8a8b11",
   "metadata": {},
   "outputs": [],
   "source": [
    "import pandas as pd\n",
    "import numpy as np\n",
    "import matplotlib.pyplot as plt\n",
    "import seaborn as sns\n",
    "from collections import Counter"
   ]
  },
  {
   "cell_type": "code",
   "execution_count": null,
   "id": "64149ac8",
   "metadata": {},
   "outputs": [],
   "source": []
  },
  {
   "cell_type": "markdown",
   "id": "ffdf43fa",
   "metadata": {},
   "source": [
    "## importing the data from the excel"
   ]
  },
  {
   "cell_type": "code",
   "execution_count": 65,
   "id": "6f2c9f9d",
   "metadata": {},
   "outputs": [],
   "source": [
    "data = pd.read_csv('IMBD.csv')"
   ]
  },
  {
   "cell_type": "code",
   "execution_count": 66,
   "id": "cd44eb51",
   "metadata": {
    "scrolled": true
   },
   "outputs": [
    {
     "data": {
      "text/html": [
       "<div>\n",
       "<style scoped>\n",
       "    .dataframe tbody tr th:only-of-type {\n",
       "        vertical-align: middle;\n",
       "    }\n",
       "\n",
       "    .dataframe tbody tr th {\n",
       "        vertical-align: top;\n",
       "    }\n",
       "\n",
       "    .dataframe thead th {\n",
       "        text-align: right;\n",
       "    }\n",
       "</style>\n",
       "<table border=\"1\" class=\"dataframe\">\n",
       "  <thead>\n",
       "    <tr style=\"text-align: right;\">\n",
       "      <th></th>\n",
       "      <th>Title</th>\n",
       "      <th>Release_Year</th>\n",
       "      <th>Duration</th>\n",
       "      <th>Collection</th>\n",
       "      <th>Genre</th>\n",
       "      <th>Director</th>\n",
       "      <th>Rating</th>\n",
       "      <th>Votes</th>\n",
       "    </tr>\n",
       "  </thead>\n",
       "  <tbody>\n",
       "    <tr>\n",
       "      <th>0</th>\n",
       "      <td>The Walking Dead</td>\n",
       "      <td>2010–2022</td>\n",
       "      <td>44</td>\n",
       "      <td>960,865</td>\n",
       "      <td>Drama, Horror, Thriller</td>\n",
       "      <td>Andrew Lincoln</td>\n",
       "      <td>8.2</td>\n",
       "      <td>960,865</td>\n",
       "    </tr>\n",
       "    <tr>\n",
       "      <th>1</th>\n",
       "      <td>Predator</td>\n",
       "      <td>1987</td>\n",
       "      <td>107</td>\n",
       "      <td>59.74</td>\n",
       "      <td>Action, Adventure, Horror</td>\n",
       "      <td>John McTiernan</td>\n",
       "      <td>7.8</td>\n",
       "      <td>411,198</td>\n",
       "    </tr>\n",
       "    <tr>\n",
       "      <th>2</th>\n",
       "      <td>Predators</td>\n",
       "      <td>2010</td>\n",
       "      <td>107</td>\n",
       "      <td>52</td>\n",
       "      <td>Action, Adventure, Sci-Fi</td>\n",
       "      <td>Nimród Antal</td>\n",
       "      <td>6.4</td>\n",
       "      <td>227,827</td>\n",
       "    </tr>\n",
       "    <tr>\n",
       "      <th>3</th>\n",
       "      <td>Predator 2</td>\n",
       "      <td>1990</td>\n",
       "      <td>108</td>\n",
       "      <td>30.67</td>\n",
       "      <td>Action, Horror, Sci-Fi</td>\n",
       "      <td>Stephen Hopkins</td>\n",
       "      <td>6.3</td>\n",
       "      <td>164,417</td>\n",
       "    </tr>\n",
       "    <tr>\n",
       "      <th>4</th>\n",
       "      <td>The Godfather</td>\n",
       "      <td>1972</td>\n",
       "      <td>175</td>\n",
       "      <td>134.97</td>\n",
       "      <td>Crime, Drama</td>\n",
       "      <td>Francis Ford Coppola</td>\n",
       "      <td>9.2</td>\n",
       "      <td>1,819,087</td>\n",
       "    </tr>\n",
       "    <tr>\n",
       "      <th>...</th>\n",
       "      <td>...</td>\n",
       "      <td>...</td>\n",
       "      <td>...</td>\n",
       "      <td>...</td>\n",
       "      <td>...</td>\n",
       "      <td>...</td>\n",
       "      <td>...</td>\n",
       "      <td>...</td>\n",
       "    </tr>\n",
       "    <tr>\n",
       "      <th>595</th>\n",
       "      <td>Evan Almighty</td>\n",
       "      <td>2007</td>\n",
       "      <td>96</td>\n",
       "      <td>100.46</td>\n",
       "      <td>Comedy, Family, Fantasy</td>\n",
       "      <td>Tom Shadyac</td>\n",
       "      <td>5.4</td>\n",
       "      <td>147,385</td>\n",
       "    </tr>\n",
       "    <tr>\n",
       "      <th>596</th>\n",
       "      <td>Antz</td>\n",
       "      <td>1998</td>\n",
       "      <td>83</td>\n",
       "      <td>90.76</td>\n",
       "      <td>Animation, Adventure, Comedy</td>\n",
       "      <td>Eric Darnell</td>\n",
       "      <td>6.6</td>\n",
       "      <td>154,890</td>\n",
       "    </tr>\n",
       "    <tr>\n",
       "      <th>597</th>\n",
       "      <td>Bride &amp; Prejudice</td>\n",
       "      <td>2004</td>\n",
       "      <td>122</td>\n",
       "      <td>6.6</td>\n",
       "      <td>Comedy, Drama, Musical</td>\n",
       "      <td>Gurinder Chadha</td>\n",
       "      <td>6.2</td>\n",
       "      <td>20,887</td>\n",
       "    </tr>\n",
       "    <tr>\n",
       "      <th>598</th>\n",
       "      <td>Deuce Bigalow: European Gigolo</td>\n",
       "      <td>2005</td>\n",
       "      <td>83</td>\n",
       "      <td>22.26</td>\n",
       "      <td>Comedy</td>\n",
       "      <td>Mike Bigelow</td>\n",
       "      <td>4.6</td>\n",
       "      <td>51,030</td>\n",
       "    </tr>\n",
       "    <tr>\n",
       "      <th>599</th>\n",
       "      <td>The Crazies</td>\n",
       "      <td>2010</td>\n",
       "      <td>101</td>\n",
       "      <td>39.12</td>\n",
       "      <td>Adventure, Horror</td>\n",
       "      <td>Breck Eisner</td>\n",
       "      <td>6.5</td>\n",
       "      <td>120,951</td>\n",
       "    </tr>\n",
       "  </tbody>\n",
       "</table>\n",
       "<p>600 rows × 8 columns</p>\n",
       "</div>"
      ],
      "text/plain": [
       "                              Title Release_Year  Duration Collection  \\\n",
       "0                  The Walking Dead    2010–2022        44    960,865   \n",
       "1                          Predator         1987       107      59.74   \n",
       "2                         Predators         2010       107         52   \n",
       "3                        Predator 2         1990       108      30.67   \n",
       "4                     The Godfather         1972       175     134.97   \n",
       "..                              ...          ...       ...        ...   \n",
       "595                   Evan Almighty         2007        96     100.46   \n",
       "596                            Antz         1998        83      90.76   \n",
       "597               Bride & Prejudice         2004       122        6.6   \n",
       "598  Deuce Bigalow: European Gigolo         2005        83      22.26   \n",
       "599                     The Crazies         2010       101      39.12   \n",
       "\n",
       "                            Genre              Director  Rating      Votes  \n",
       "0         Drama, Horror, Thriller        Andrew Lincoln     8.2    960,865  \n",
       "1       Action, Adventure, Horror        John McTiernan     7.8    411,198  \n",
       "2       Action, Adventure, Sci-Fi          Nimród Antal     6.4    227,827  \n",
       "3          Action, Horror, Sci-Fi       Stephen Hopkins     6.3    164,417  \n",
       "4                    Crime, Drama  Francis Ford Coppola     9.2  1,819,087  \n",
       "..                            ...                   ...     ...        ...  \n",
       "595       Comedy, Family, Fantasy           Tom Shadyac     5.4    147,385  \n",
       "596  Animation, Adventure, Comedy          Eric Darnell     6.6    154,890  \n",
       "597        Comedy, Drama, Musical       Gurinder Chadha     6.2     20,887  \n",
       "598                        Comedy          Mike Bigelow     4.6     51,030  \n",
       "599             Adventure, Horror          Breck Eisner     6.5    120,951  \n",
       "\n",
       "[600 rows x 8 columns]"
      ]
     },
     "execution_count": 66,
     "metadata": {},
     "output_type": "execute_result"
    }
   ],
   "source": [
    "data"
   ]
  },
  {
   "cell_type": "code",
   "execution_count": null,
   "id": "cd1356a3",
   "metadata": {},
   "outputs": [],
   "source": []
  },
  {
   "cell_type": "code",
   "execution_count": null,
   "id": "509f5faf",
   "metadata": {},
   "outputs": [],
   "source": []
  },
  {
   "cell_type": "markdown",
   "id": "8adb9792",
   "metadata": {},
   "source": [
    "## Data Cleaning"
   ]
  },
  {
   "cell_type": "code",
   "execution_count": null,
   "id": "0b48d7bc",
   "metadata": {},
   "outputs": [],
   "source": []
  },
  {
   "cell_type": "code",
   "execution_count": 67,
   "id": "9b4d1ba9",
   "metadata": {},
   "outputs": [],
   "source": [
    "data = data.drop([0])     # dropping abnormal row"
   ]
  },
  {
   "cell_type": "code",
   "execution_count": 68,
   "id": "8997d121",
   "metadata": {},
   "outputs": [
    {
     "data": {
      "text/html": [
       "<div>\n",
       "<style scoped>\n",
       "    .dataframe tbody tr th:only-of-type {\n",
       "        vertical-align: middle;\n",
       "    }\n",
       "\n",
       "    .dataframe tbody tr th {\n",
       "        vertical-align: top;\n",
       "    }\n",
       "\n",
       "    .dataframe thead th {\n",
       "        text-align: right;\n",
       "    }\n",
       "</style>\n",
       "<table border=\"1\" class=\"dataframe\">\n",
       "  <thead>\n",
       "    <tr style=\"text-align: right;\">\n",
       "      <th></th>\n",
       "      <th>Title</th>\n",
       "      <th>Release_Year</th>\n",
       "      <th>Duration</th>\n",
       "      <th>Collection</th>\n",
       "      <th>Genre</th>\n",
       "      <th>Director</th>\n",
       "      <th>Rating</th>\n",
       "      <th>Votes</th>\n",
       "    </tr>\n",
       "  </thead>\n",
       "  <tbody>\n",
       "    <tr>\n",
       "      <th>1</th>\n",
       "      <td>Predator</td>\n",
       "      <td>1987</td>\n",
       "      <td>107</td>\n",
       "      <td>59.74</td>\n",
       "      <td>Action, Adventure, Horror</td>\n",
       "      <td>John McTiernan</td>\n",
       "      <td>7.8</td>\n",
       "      <td>411,198</td>\n",
       "    </tr>\n",
       "    <tr>\n",
       "      <th>2</th>\n",
       "      <td>Predators</td>\n",
       "      <td>2010</td>\n",
       "      <td>107</td>\n",
       "      <td>52</td>\n",
       "      <td>Action, Adventure, Sci-Fi</td>\n",
       "      <td>Nimród Antal</td>\n",
       "      <td>6.4</td>\n",
       "      <td>227,827</td>\n",
       "    </tr>\n",
       "    <tr>\n",
       "      <th>3</th>\n",
       "      <td>Predator 2</td>\n",
       "      <td>1990</td>\n",
       "      <td>108</td>\n",
       "      <td>30.67</td>\n",
       "      <td>Action, Horror, Sci-Fi</td>\n",
       "      <td>Stephen Hopkins</td>\n",
       "      <td>6.3</td>\n",
       "      <td>164,417</td>\n",
       "    </tr>\n",
       "    <tr>\n",
       "      <th>4</th>\n",
       "      <td>The Godfather</td>\n",
       "      <td>1972</td>\n",
       "      <td>175</td>\n",
       "      <td>134.97</td>\n",
       "      <td>Crime, Drama</td>\n",
       "      <td>Francis Ford Coppola</td>\n",
       "      <td>9.2</td>\n",
       "      <td>1,819,087</td>\n",
       "    </tr>\n",
       "    <tr>\n",
       "      <th>5</th>\n",
       "      <td>The Shawshank Redemption</td>\n",
       "      <td>1994</td>\n",
       "      <td>142</td>\n",
       "      <td>28.34</td>\n",
       "      <td>Drama</td>\n",
       "      <td>Frank Darabont</td>\n",
       "      <td>9.3</td>\n",
       "      <td>2,626,148</td>\n",
       "    </tr>\n",
       "    <tr>\n",
       "      <th>...</th>\n",
       "      <td>...</td>\n",
       "      <td>...</td>\n",
       "      <td>...</td>\n",
       "      <td>...</td>\n",
       "      <td>...</td>\n",
       "      <td>...</td>\n",
       "      <td>...</td>\n",
       "      <td>...</td>\n",
       "    </tr>\n",
       "    <tr>\n",
       "      <th>595</th>\n",
       "      <td>Evan Almighty</td>\n",
       "      <td>2007</td>\n",
       "      <td>96</td>\n",
       "      <td>100.46</td>\n",
       "      <td>Comedy, Family, Fantasy</td>\n",
       "      <td>Tom Shadyac</td>\n",
       "      <td>5.4</td>\n",
       "      <td>147,385</td>\n",
       "    </tr>\n",
       "    <tr>\n",
       "      <th>596</th>\n",
       "      <td>Antz</td>\n",
       "      <td>1998</td>\n",
       "      <td>83</td>\n",
       "      <td>90.76</td>\n",
       "      <td>Animation, Adventure, Comedy</td>\n",
       "      <td>Eric Darnell</td>\n",
       "      <td>6.6</td>\n",
       "      <td>154,890</td>\n",
       "    </tr>\n",
       "    <tr>\n",
       "      <th>597</th>\n",
       "      <td>Bride &amp; Prejudice</td>\n",
       "      <td>2004</td>\n",
       "      <td>122</td>\n",
       "      <td>6.6</td>\n",
       "      <td>Comedy, Drama, Musical</td>\n",
       "      <td>Gurinder Chadha</td>\n",
       "      <td>6.2</td>\n",
       "      <td>20,887</td>\n",
       "    </tr>\n",
       "    <tr>\n",
       "      <th>598</th>\n",
       "      <td>Deuce Bigalow: European Gigolo</td>\n",
       "      <td>2005</td>\n",
       "      <td>83</td>\n",
       "      <td>22.26</td>\n",
       "      <td>Comedy</td>\n",
       "      <td>Mike Bigelow</td>\n",
       "      <td>4.6</td>\n",
       "      <td>51,030</td>\n",
       "    </tr>\n",
       "    <tr>\n",
       "      <th>599</th>\n",
       "      <td>The Crazies</td>\n",
       "      <td>2010</td>\n",
       "      <td>101</td>\n",
       "      <td>39.12</td>\n",
       "      <td>Adventure, Horror</td>\n",
       "      <td>Breck Eisner</td>\n",
       "      <td>6.5</td>\n",
       "      <td>120,951</td>\n",
       "    </tr>\n",
       "  </tbody>\n",
       "</table>\n",
       "<p>599 rows × 8 columns</p>\n",
       "</div>"
      ],
      "text/plain": [
       "                              Title Release_Year  Duration Collection  \\\n",
       "1                          Predator         1987       107      59.74   \n",
       "2                         Predators         2010       107         52   \n",
       "3                        Predator 2         1990       108      30.67   \n",
       "4                     The Godfather         1972       175     134.97   \n",
       "5          The Shawshank Redemption         1994       142      28.34   \n",
       "..                              ...          ...       ...        ...   \n",
       "595                   Evan Almighty         2007        96     100.46   \n",
       "596                            Antz         1998        83      90.76   \n",
       "597               Bride & Prejudice         2004       122        6.6   \n",
       "598  Deuce Bigalow: European Gigolo         2005        83      22.26   \n",
       "599                     The Crazies         2010       101      39.12   \n",
       "\n",
       "                            Genre              Director  Rating      Votes  \n",
       "1       Action, Adventure, Horror        John McTiernan     7.8    411,198  \n",
       "2       Action, Adventure, Sci-Fi          Nimród Antal     6.4    227,827  \n",
       "3          Action, Horror, Sci-Fi       Stephen Hopkins     6.3    164,417  \n",
       "4                    Crime, Drama  Francis Ford Coppola     9.2  1,819,087  \n",
       "5                           Drama        Frank Darabont     9.3  2,626,148  \n",
       "..                            ...                   ...     ...        ...  \n",
       "595       Comedy, Family, Fantasy           Tom Shadyac     5.4    147,385  \n",
       "596  Animation, Adventure, Comedy          Eric Darnell     6.6    154,890  \n",
       "597        Comedy, Drama, Musical       Gurinder Chadha     6.2     20,887  \n",
       "598                        Comedy          Mike Bigelow     4.6     51,030  \n",
       "599             Adventure, Horror          Breck Eisner     6.5    120,951  \n",
       "\n",
       "[599 rows x 8 columns]"
      ]
     },
     "execution_count": 68,
     "metadata": {},
     "output_type": "execute_result"
    }
   ],
   "source": [
    "data"
   ]
  },
  {
   "cell_type": "code",
   "execution_count": null,
   "id": "20d8d4bc",
   "metadata": {},
   "outputs": [],
   "source": []
  },
  {
   "cell_type": "code",
   "execution_count": 69,
   "id": "3310a9ad",
   "metadata": {},
   "outputs": [
    {
     "data": {
      "text/plain": [
       "Title           0\n",
       "Release_Year    0\n",
       "Duration        0\n",
       "Collection      0\n",
       "Genre           0\n",
       "Director        0\n",
       "Rating          0\n",
       "Votes           0\n",
       "dtype: int64"
      ]
     },
     "execution_count": 69,
     "metadata": {},
     "output_type": "execute_result"
    }
   ],
   "source": [
    "# finding the null values present in the dataset\n",
    "#  - is na()\n",
    "#  - is null()\n",
    "\n",
    "\n",
    "data.isna().sum()"
   ]
  },
  {
   "cell_type": "code",
   "execution_count": 70,
   "id": "bbee6f10",
   "metadata": {},
   "outputs": [
    {
     "data": {
      "text/plain": [
       "Title           0\n",
       "Release_Year    0\n",
       "Duration        0\n",
       "Collection      0\n",
       "Genre           0\n",
       "Director        0\n",
       "Rating          0\n",
       "Votes           0\n",
       "dtype: int64"
      ]
     },
     "execution_count": 70,
     "metadata": {},
     "output_type": "execute_result"
    }
   ],
   "source": [
    "data.isnull().sum()"
   ]
  },
  {
   "cell_type": "code",
   "execution_count": null,
   "id": "77e9d5bc",
   "metadata": {},
   "outputs": [],
   "source": []
  },
  {
   "cell_type": "code",
   "execution_count": 71,
   "id": "6914085a",
   "metadata": {},
   "outputs": [],
   "source": [
    "## find any duplicate values present in the data"
   ]
  },
  {
   "cell_type": "code",
   "execution_count": 72,
   "id": "f8f400ec",
   "metadata": {},
   "outputs": [
    {
     "data": {
      "text/html": [
       "<div>\n",
       "<style scoped>\n",
       "    .dataframe tbody tr th:only-of-type {\n",
       "        vertical-align: middle;\n",
       "    }\n",
       "\n",
       "    .dataframe tbody tr th {\n",
       "        vertical-align: top;\n",
       "    }\n",
       "\n",
       "    .dataframe thead th {\n",
       "        text-align: right;\n",
       "    }\n",
       "</style>\n",
       "<table border=\"1\" class=\"dataframe\">\n",
       "  <thead>\n",
       "    <tr style=\"text-align: right;\">\n",
       "      <th></th>\n",
       "      <th>Title</th>\n",
       "      <th>Release_Year</th>\n",
       "      <th>Duration</th>\n",
       "      <th>Collection</th>\n",
       "      <th>Genre</th>\n",
       "      <th>Director</th>\n",
       "      <th>Rating</th>\n",
       "      <th>Votes</th>\n",
       "    </tr>\n",
       "  </thead>\n",
       "  <tbody>\n",
       "  </tbody>\n",
       "</table>\n",
       "</div>"
      ],
      "text/plain": [
       "Empty DataFrame\n",
       "Columns: [Title, Release_Year, Duration, Collection, Genre, Director, Rating, Votes]\n",
       "Index: []"
      ]
     },
     "execution_count": 72,
     "metadata": {},
     "output_type": "execute_result"
    }
   ],
   "source": [
    "data[data.duplicated()]"
   ]
  },
  {
   "cell_type": "code",
   "execution_count": null,
   "id": "294d0151",
   "metadata": {},
   "outputs": [],
   "source": []
  },
  {
   "cell_type": "markdown",
   "id": "e2650a7c",
   "metadata": {},
   "source": [
    "## Data Manupulating"
   ]
  },
  {
   "cell_type": "code",
   "execution_count": null,
   "id": "8e5b2e05",
   "metadata": {},
   "outputs": [],
   "source": []
  },
  {
   "cell_type": "code",
   "execution_count": null,
   "id": "9fa5f787",
   "metadata": {},
   "outputs": [],
   "source": []
  },
  {
   "cell_type": "code",
   "execution_count": 73,
   "id": "022ed947",
   "metadata": {},
   "outputs": [
    {
     "name": "stdout",
     "output_type": "stream",
     "text": [
      "<class 'pandas.core.frame.DataFrame'>\n",
      "RangeIndex: 599 entries, 1 to 599\n",
      "Data columns (total 8 columns):\n",
      " #   Column        Non-Null Count  Dtype  \n",
      "---  ------        --------------  -----  \n",
      " 0   Title         599 non-null    object \n",
      " 1   Release_Year  599 non-null    object \n",
      " 2   Duration      599 non-null    int64  \n",
      " 3   Collection    599 non-null    object \n",
      " 4   Genre         599 non-null    object \n",
      " 5   Director      599 non-null    object \n",
      " 6   Rating        599 non-null    float64\n",
      " 7   Votes         599 non-null    object \n",
      "dtypes: float64(1), int64(1), object(6)\n",
      "memory usage: 37.6+ KB\n"
     ]
    }
   ],
   "source": [
    "data.info()"
   ]
  },
  {
   "cell_type": "markdown",
   "id": "47379a1e",
   "metadata": {},
   "source": [
    "**The most of the columns are in the object/ string format, here we are converting the data type of the columns**"
   ]
  },
  {
   "cell_type": "code",
   "execution_count": null,
   "id": "b5244cc2",
   "metadata": {},
   "outputs": [],
   "source": []
  },
  {
   "cell_type": "markdown",
   "id": "a3e37114",
   "metadata": {},
   "source": [
    "### Changing the data type for the columns"
   ]
  },
  {
   "cell_type": "code",
   "execution_count": 74,
   "id": "ad2bb73a",
   "metadata": {},
   "outputs": [],
   "source": [
    "COLLECTION = []\n",
    "vote = []\n",
    "release=[]"
   ]
  },
  {
   "cell_type": "code",
   "execution_count": 75,
   "id": "cab725f6",
   "metadata": {},
   "outputs": [],
   "source": [
    "for i in data['Votes']:\n",
    "    a = i.split(',')\n",
    "    b = ''.join(a)\n",
    "    vote.append(int(b))\n",
    "\n",
    "    \n",
    "for i in data['Collection']:\n",
    "    a  =i.replace(',','.')\n",
    "    COLLECTION.append(float(a))\n",
    "\n",
    "    \n",
    "for i in data['Release_Year']:\n",
    "    release.append(int(i))"
   ]
  },
  {
   "cell_type": "code",
   "execution_count": 76,
   "id": "3d8db58e",
   "metadata": {},
   "outputs": [],
   "source": [
    "data['Release_Year'] = release\n",
    "data['Votes'] = vote\n",
    "data['Collection']= COLLECTION"
   ]
  },
  {
   "cell_type": "code",
   "execution_count": null,
   "id": "11bc0e5a",
   "metadata": {},
   "outputs": [],
   "source": []
  },
  {
   "cell_type": "markdown",
   "id": "df6b6e36",
   "metadata": {},
   "source": [
    "#### checking the type of the columns"
   ]
  },
  {
   "cell_type": "code",
   "execution_count": null,
   "id": "052712ca",
   "metadata": {},
   "outputs": [],
   "source": []
  },
  {
   "cell_type": "code",
   "execution_count": 77,
   "id": "172433db",
   "metadata": {},
   "outputs": [
    {
     "name": "stdout",
     "output_type": "stream",
     "text": [
      "<class 'pandas.core.frame.DataFrame'>\n",
      "RangeIndex: 599 entries, 1 to 599\n",
      "Data columns (total 8 columns):\n",
      " #   Column        Non-Null Count  Dtype  \n",
      "---  ------        --------------  -----  \n",
      " 0   Title         599 non-null    object \n",
      " 1   Release_Year  599 non-null    int64  \n",
      " 2   Duration      599 non-null    int64  \n",
      " 3   Collection    599 non-null    float64\n",
      " 4   Genre         599 non-null    object \n",
      " 5   Director      599 non-null    object \n",
      " 6   Rating        599 non-null    float64\n",
      " 7   Votes         599 non-null    int64  \n",
      "dtypes: float64(2), int64(3), object(3)\n",
      "memory usage: 37.6+ KB\n"
     ]
    }
   ],
   "source": [
    "# finding the data type of each column\n",
    "\n",
    "\n",
    "data.info()"
   ]
  },
  {
   "cell_type": "code",
   "execution_count": 78,
   "id": "d03b74e6",
   "metadata": {},
   "outputs": [
    {
     "data": {
      "text/html": [
       "<div>\n",
       "<style scoped>\n",
       "    .dataframe tbody tr th:only-of-type {\n",
       "        vertical-align: middle;\n",
       "    }\n",
       "\n",
       "    .dataframe tbody tr th {\n",
       "        vertical-align: top;\n",
       "    }\n",
       "\n",
       "    .dataframe thead th {\n",
       "        text-align: right;\n",
       "    }\n",
       "</style>\n",
       "<table border=\"1\" class=\"dataframe\">\n",
       "  <thead>\n",
       "    <tr style=\"text-align: right;\">\n",
       "      <th></th>\n",
       "      <th>Release_Year</th>\n",
       "      <th>Duration</th>\n",
       "      <th>Collection</th>\n",
       "      <th>Rating</th>\n",
       "      <th>Votes</th>\n",
       "    </tr>\n",
       "  </thead>\n",
       "  <tbody>\n",
       "    <tr>\n",
       "      <th>count</th>\n",
       "      <td>599.000000</td>\n",
       "      <td>599.000000</td>\n",
       "      <td>599.000000</td>\n",
       "      <td>599.000000</td>\n",
       "      <td>5.990000e+02</td>\n",
       "    </tr>\n",
       "    <tr>\n",
       "      <th>mean</th>\n",
       "      <td>1999.480801</td>\n",
       "      <td>113.946578</td>\n",
       "      <td>108.915471</td>\n",
       "      <td>6.827379</td>\n",
       "      <td>3.555362e+05</td>\n",
       "    </tr>\n",
       "    <tr>\n",
       "      <th>std</th>\n",
       "      <td>10.062308</td>\n",
       "      <td>23.117277</td>\n",
       "      <td>95.735014</td>\n",
       "      <td>1.035031</td>\n",
       "      <td>3.645239e+05</td>\n",
       "    </tr>\n",
       "    <tr>\n",
       "      <th>min</th>\n",
       "      <td>1939.000000</td>\n",
       "      <td>75.000000</td>\n",
       "      <td>0.010000</td>\n",
       "      <td>1.900000</td>\n",
       "      <td>1.775500e+04</td>\n",
       "    </tr>\n",
       "    <tr>\n",
       "      <th>25%</th>\n",
       "      <td>1996.000000</td>\n",
       "      <td>97.000000</td>\n",
       "      <td>42.875000</td>\n",
       "      <td>6.200000</td>\n",
       "      <td>1.404390e+05</td>\n",
       "    </tr>\n",
       "    <tr>\n",
       "      <th>50%</th>\n",
       "      <td>2003.000000</td>\n",
       "      <td>109.000000</td>\n",
       "      <td>80.170000</td>\n",
       "      <td>6.900000</td>\n",
       "      <td>2.336850e+05</td>\n",
       "    </tr>\n",
       "    <tr>\n",
       "      <th>75%</th>\n",
       "      <td>2006.000000</td>\n",
       "      <td>126.000000</td>\n",
       "      <td>142.805000</td>\n",
       "      <td>7.600000</td>\n",
       "      <td>4.123090e+05</td>\n",
       "    </tr>\n",
       "    <tr>\n",
       "      <th>max</th>\n",
       "      <td>2011.000000</td>\n",
       "      <td>238.000000</td>\n",
       "      <td>760.510000</td>\n",
       "      <td>9.300000</td>\n",
       "      <td>2.626148e+06</td>\n",
       "    </tr>\n",
       "  </tbody>\n",
       "</table>\n",
       "</div>"
      ],
      "text/plain": [
       "       Release_Year    Duration  Collection      Rating         Votes\n",
       "count    599.000000  599.000000  599.000000  599.000000  5.990000e+02\n",
       "mean    1999.480801  113.946578  108.915471    6.827379  3.555362e+05\n",
       "std       10.062308   23.117277   95.735014    1.035031  3.645239e+05\n",
       "min     1939.000000   75.000000    0.010000    1.900000  1.775500e+04\n",
       "25%     1996.000000   97.000000   42.875000    6.200000  1.404390e+05\n",
       "50%     2003.000000  109.000000   80.170000    6.900000  2.336850e+05\n",
       "75%     2006.000000  126.000000  142.805000    7.600000  4.123090e+05\n",
       "max     2011.000000  238.000000  760.510000    9.300000  2.626148e+06"
      ]
     },
     "execution_count": 78,
     "metadata": {},
     "output_type": "execute_result"
    }
   ],
   "source": [
    "data.describe()"
   ]
  },
  {
   "cell_type": "code",
   "execution_count": null,
   "id": "3c86658e",
   "metadata": {},
   "outputs": [],
   "source": []
  },
  {
   "cell_type": "code",
   "execution_count": null,
   "id": "d6226383",
   "metadata": {},
   "outputs": [],
   "source": []
  },
  {
   "cell_type": "code",
   "execution_count": null,
   "id": "7dfee3ac",
   "metadata": {},
   "outputs": [],
   "source": []
  },
  {
   "cell_type": "code",
   "execution_count": null,
   "id": "386f8152",
   "metadata": {},
   "outputs": [],
   "source": []
  },
  {
   "cell_type": "markdown",
   "id": "d000214c",
   "metadata": {},
   "source": [
    "# 1.Univarient Analysis "
   ]
  },
  {
   "cell_type": "code",
   "execution_count": 79,
   "id": "4b80962b",
   "metadata": {},
   "outputs": [
    {
     "data": {
      "text/html": [
       "<div>\n",
       "<style scoped>\n",
       "    .dataframe tbody tr th:only-of-type {\n",
       "        vertical-align: middle;\n",
       "    }\n",
       "\n",
       "    .dataframe tbody tr th {\n",
       "        vertical-align: top;\n",
       "    }\n",
       "\n",
       "    .dataframe thead th {\n",
       "        text-align: right;\n",
       "    }\n",
       "</style>\n",
       "<table border=\"1\" class=\"dataframe\">\n",
       "  <thead>\n",
       "    <tr style=\"text-align: right;\">\n",
       "      <th></th>\n",
       "      <th>Title</th>\n",
       "      <th>Release_Year</th>\n",
       "      <th>Duration</th>\n",
       "      <th>Collection</th>\n",
       "      <th>Genre</th>\n",
       "      <th>Director</th>\n",
       "      <th>Rating</th>\n",
       "      <th>Votes</th>\n",
       "    </tr>\n",
       "  </thead>\n",
       "  <tbody>\n",
       "    <tr>\n",
       "      <th>1</th>\n",
       "      <td>Predator</td>\n",
       "      <td>1987</td>\n",
       "      <td>107</td>\n",
       "      <td>59.74</td>\n",
       "      <td>Action, Adventure, Horror</td>\n",
       "      <td>John McTiernan</td>\n",
       "      <td>7.8</td>\n",
       "      <td>411198</td>\n",
       "    </tr>\n",
       "    <tr>\n",
       "      <th>2</th>\n",
       "      <td>Predators</td>\n",
       "      <td>2010</td>\n",
       "      <td>107</td>\n",
       "      <td>52.00</td>\n",
       "      <td>Action, Adventure, Sci-Fi</td>\n",
       "      <td>Nimród Antal</td>\n",
       "      <td>6.4</td>\n",
       "      <td>227827</td>\n",
       "    </tr>\n",
       "    <tr>\n",
       "      <th>3</th>\n",
       "      <td>Predator 2</td>\n",
       "      <td>1990</td>\n",
       "      <td>108</td>\n",
       "      <td>30.67</td>\n",
       "      <td>Action, Horror, Sci-Fi</td>\n",
       "      <td>Stephen Hopkins</td>\n",
       "      <td>6.3</td>\n",
       "      <td>164417</td>\n",
       "    </tr>\n",
       "    <tr>\n",
       "      <th>4</th>\n",
       "      <td>The Godfather</td>\n",
       "      <td>1972</td>\n",
       "      <td>175</td>\n",
       "      <td>134.97</td>\n",
       "      <td>Crime, Drama</td>\n",
       "      <td>Francis Ford Coppola</td>\n",
       "      <td>9.2</td>\n",
       "      <td>1819087</td>\n",
       "    </tr>\n",
       "    <tr>\n",
       "      <th>5</th>\n",
       "      <td>The Shawshank Redemption</td>\n",
       "      <td>1994</td>\n",
       "      <td>142</td>\n",
       "      <td>28.34</td>\n",
       "      <td>Drama</td>\n",
       "      <td>Frank Darabont</td>\n",
       "      <td>9.3</td>\n",
       "      <td>2626148</td>\n",
       "    </tr>\n",
       "    <tr>\n",
       "      <th>6</th>\n",
       "      <td>Forrest Gump</td>\n",
       "      <td>1994</td>\n",
       "      <td>142</td>\n",
       "      <td>330.25</td>\n",
       "      <td>Drama, Romance</td>\n",
       "      <td>Robert Zemeckis</td>\n",
       "      <td>8.8</td>\n",
       "      <td>2031416</td>\n",
       "    </tr>\n",
       "    <tr>\n",
       "      <th>7</th>\n",
       "      <td>Orphan</td>\n",
       "      <td>2009</td>\n",
       "      <td>123</td>\n",
       "      <td>41.60</td>\n",
       "      <td>Horror, Mystery, Thriller</td>\n",
       "      <td>Jaume Collet-Serra</td>\n",
       "      <td>7.0</td>\n",
       "      <td>218265</td>\n",
       "    </tr>\n",
       "    <tr>\n",
       "      <th>8</th>\n",
       "      <td>Pulp Fiction</td>\n",
       "      <td>1994</td>\n",
       "      <td>154</td>\n",
       "      <td>107.93</td>\n",
       "      <td>Crime, Drama</td>\n",
       "      <td>Quentin Tarantino</td>\n",
       "      <td>8.9</td>\n",
       "      <td>2010447</td>\n",
       "    </tr>\n",
       "    <tr>\n",
       "      <th>9</th>\n",
       "      <td>Heat</td>\n",
       "      <td>1995</td>\n",
       "      <td>170</td>\n",
       "      <td>67.44</td>\n",
       "      <td>Action, Crime, Drama</td>\n",
       "      <td>Michael Mann</td>\n",
       "      <td>8.3</td>\n",
       "      <td>644126</td>\n",
       "    </tr>\n",
       "    <tr>\n",
       "      <th>10</th>\n",
       "      <td>The Lord of the Rings: The Fellowship of the Ring</td>\n",
       "      <td>2001</td>\n",
       "      <td>178</td>\n",
       "      <td>315.54</td>\n",
       "      <td>Action, Adventure, Drama</td>\n",
       "      <td>Peter Jackson</td>\n",
       "      <td>8.8</td>\n",
       "      <td>1822526</td>\n",
       "    </tr>\n",
       "  </tbody>\n",
       "</table>\n",
       "</div>"
      ],
      "text/plain": [
       "                                                Title  Release_Year  Duration  \\\n",
       "1                                            Predator          1987       107   \n",
       "2                                           Predators          2010       107   \n",
       "3                                          Predator 2          1990       108   \n",
       "4                                       The Godfather          1972       175   \n",
       "5                            The Shawshank Redemption          1994       142   \n",
       "6                                        Forrest Gump          1994       142   \n",
       "7                                              Orphan          2009       123   \n",
       "8                                        Pulp Fiction          1994       154   \n",
       "9                                                Heat          1995       170   \n",
       "10  The Lord of the Rings: The Fellowship of the Ring          2001       178   \n",
       "\n",
       "    Collection                      Genre              Director  Rating  \\\n",
       "1        59.74  Action, Adventure, Horror        John McTiernan     7.8   \n",
       "2        52.00  Action, Adventure, Sci-Fi          Nimród Antal     6.4   \n",
       "3        30.67     Action, Horror, Sci-Fi       Stephen Hopkins     6.3   \n",
       "4       134.97               Crime, Drama  Francis Ford Coppola     9.2   \n",
       "5        28.34                      Drama        Frank Darabont     9.3   \n",
       "6       330.25             Drama, Romance       Robert Zemeckis     8.8   \n",
       "7        41.60  Horror, Mystery, Thriller    Jaume Collet-Serra     7.0   \n",
       "8       107.93               Crime, Drama     Quentin Tarantino     8.9   \n",
       "9        67.44       Action, Crime, Drama          Michael Mann     8.3   \n",
       "10      315.54   Action, Adventure, Drama         Peter Jackson     8.8   \n",
       "\n",
       "      Votes  \n",
       "1    411198  \n",
       "2    227827  \n",
       "3    164417  \n",
       "4   1819087  \n",
       "5   2626148  \n",
       "6   2031416  \n",
       "7    218265  \n",
       "8   2010447  \n",
       "9    644126  \n",
       "10  1822526  "
      ]
     },
     "execution_count": 79,
     "metadata": {},
     "output_type": "execute_result"
    }
   ],
   "source": [
    "data.head(10)"
   ]
  },
  {
   "cell_type": "code",
   "execution_count": null,
   "id": "6d2fd5b4",
   "metadata": {},
   "outputs": [],
   "source": []
  },
  {
   "cell_type": "code",
   "execution_count": null,
   "id": "23b610d3",
   "metadata": {},
   "outputs": [],
   "source": []
  },
  {
   "cell_type": "markdown",
   "id": "0619a02c",
   "metadata": {},
   "source": [
    "### 1.1  Finding repeating years"
   ]
  },
  {
   "cell_type": "code",
   "execution_count": 80,
   "id": "6f442afc",
   "metadata": {},
   "outputs": [],
   "source": [
    "## counting the years how many times that they are occured\n"
   ]
  },
  {
   "cell_type": "code",
   "execution_count": 120,
   "id": "c681f70c",
   "metadata": {},
   "outputs": [
    {
     "data": {
      "text/plain": [
       "2004    48\n",
       "2007    46\n",
       "2005    42\n",
       "2003    38\n",
       "2008    37\n",
       "2006    34\n",
       "2001    33\n",
       "2002    32\n",
       "2000    28\n",
       "2010    28\n",
       "2009    25\n",
       "1999    20\n",
       "1997    18\n",
       "1995    16\n",
       "1998    15\n",
       "1994    12\n",
       "1992    11\n",
       "1996    11\n",
       "1990    10\n",
       "1987     9\n",
       "1993     8\n",
       "1985     8\n",
       "1989     6\n",
       "1984     6\n",
       "1979     5\n",
       "1982     5\n",
       "1978     4\n",
       "1983     4\n",
       "1991     4\n",
       "1968     3\n",
       "1980     3\n",
       "1988     3\n",
       "1986     3\n",
       "1981     3\n",
       "1973     3\n",
       "1964     2\n",
       "1962     2\n",
       "2011     2\n",
       "1975     2\n",
       "1974     2\n",
       "1976     1\n",
       "1971     1\n",
       "1939     1\n",
       "1972     1\n",
       "1953     1\n",
       "1951     1\n",
       "1940     1\n",
       "1977     1\n",
       "Name: Release_Year, dtype: int64"
      ]
     },
     "execution_count": 120,
     "metadata": {},
     "output_type": "execute_result"
    }
   ],
   "source": [
    "data['Release_Year'].value_counts()"
   ]
  },
  {
   "cell_type": "code",
   "execution_count": null,
   "id": "5a79d353",
   "metadata": {},
   "outputs": [],
   "source": []
  },
  {
   "cell_type": "code",
   "execution_count": null,
   "id": "42ae2355",
   "metadata": {},
   "outputs": [],
   "source": []
  },
  {
   "cell_type": "markdown",
   "id": "f0df36d7",
   "metadata": {},
   "source": [
    "### counting the repeating years"
   ]
  },
  {
   "cell_type": "code",
   "execution_count": 82,
   "id": "641e5169",
   "metadata": {},
   "outputs": [],
   "source": [
    "## counting the years how many times that they are occured\n",
    "## visualization"
   ]
  },
  {
   "cell_type": "code",
   "execution_count": 83,
   "id": "db1ed249",
   "metadata": {},
   "outputs": [
    {
     "data": {
      "image/png": "[encoded data removed]",
      "text/plain": [
       "<Figure size 1440x720 with 1 Axes>"
      ]
     },
     "metadata": {
      "needs_background": "light"
     },
     "output_type": "display_data"
    }
   ],
   "source": [
    "plt.figure(figsize=(20,10))\n",
    "sns.countplot(x = 'Release_Year',data= data)\n",
    "plt.title ('No:of movies Released')\n",
    "plt.xticks(rotation = 90)\n",
    "plt.show()"
   ]
  },
  {
   "cell_type": "code",
   "execution_count": null,
   "id": "0595027d",
   "metadata": {},
   "outputs": [],
   "source": []
  },
  {
   "cell_type": "code",
   "execution_count": null,
   "id": "f94b4929",
   "metadata": {},
   "outputs": [],
   "source": []
  },
  {
   "cell_type": "code",
   "execution_count": null,
   "id": "bd0b56d3",
   "metadata": {},
   "outputs": [],
   "source": []
  },
  {
   "cell_type": "markdown",
   "id": "37f0d946",
   "metadata": {},
   "source": [
    "## 1.2 No:of times the each Genre is Repeating"
   ]
  },
  {
   "cell_type": "code",
   "execution_count": 84,
   "id": "74f23f97",
   "metadata": {},
   "outputs": [],
   "source": [
    "# counting how many times that the each genre had occured\n"
   ]
  },
  {
   "cell_type": "code",
   "execution_count": null,
   "id": "9bffabe4",
   "metadata": {},
   "outputs": [],
   "source": []
  },
  {
   "cell_type": "code",
   "execution_count": 85,
   "id": "7ba4533e",
   "metadata": {},
   "outputs": [
    {
     "data": {
      "image/png": "[encoded data removed]",
      "text/plain": [
       "<Figure size 2160x1080 with 1 Axes>"
      ]
     },
     "metadata": {
      "needs_background": "light"
     },
     "output_type": "display_data"
    }
   ],
   "source": [
    "plt.figure(figsize=(30,15))\n",
    "sns.countplot(x= 'Genre',data= data)\n",
    "plt.xticks(rotation= 90)\n",
    "plt.title('counting No:of films in the genre ')\n",
    "plt.show()"
   ]
  },
  {
   "cell_type": "code",
   "execution_count": 86,
   "id": "b71137b1",
   "metadata": {},
   "outputs": [],
   "source": [
    "# counting how many times that the each genre had occured"
   ]
  },
  {
   "cell_type": "code",
   "execution_count": 87,
   "id": "67ede2ac",
   "metadata": {},
   "outputs": [
    {
     "data": {
      "text/plain": [
       "Action, Adventure, Sci-Fi       38\n",
       "Animation, Adventure, Comedy    26\n",
       "Action, Adventure, Fantasy      22\n",
       "Action, Adventure, Thriller     22\n",
       "Comedy                          22\n",
       "                                ..\n",
       "Adventure, Drama, Mystery        1\n",
       "Adventure, Drama, Fantasy        1\n",
       "Adventure, Comedy                1\n",
       "Mystery, Sci-Fi, Thriller        1\n",
       "Adventure, Horror                1\n",
       "Name: Genre, Length: 150, dtype: int64"
      ]
     },
     "execution_count": 87,
     "metadata": {},
     "output_type": "execute_result"
    }
   ],
   "source": [
    "data['Genre'].value_counts()"
   ]
  },
  {
   "cell_type": "code",
   "execution_count": null,
   "id": "70f3293a",
   "metadata": {},
   "outputs": [],
   "source": []
  },
  {
   "cell_type": "code",
   "execution_count": null,
   "id": "b12219ac",
   "metadata": {},
   "outputs": [],
   "source": []
  },
  {
   "cell_type": "markdown",
   "id": "b93b992d",
   "metadata": {},
   "source": [
    "## dividing the genre into sub parts"
   ]
  },
  {
   "cell_type": "code",
   "execution_count": 88,
   "id": "e85e79bc",
   "metadata": {},
   "outputs": [],
   "source": [
    "genre_sub = []\n",
    "genre_cat = []\n",
    "uniq_genre = []"
   ]
  },
  {
   "cell_type": "code",
   "execution_count": 89,
   "id": "2c630c34",
   "metadata": {},
   "outputs": [],
   "source": [
    "for i in data['Genre']:\n",
    "    genre_sub.append(i.split(','))\n",
    "\n",
    "for i in genre_sub:\n",
    "    for j in i:\n",
    "        genre_cat.append(j.replace(\" \",''))\n",
    "\n",
    "for i in genre_cat:\n",
    "    if i not in uniq_genre:\n",
    "        uniq_genre.append(i)\n",
    "\n"
   ]
  },
  {
   "cell_type": "code",
   "execution_count": 90,
   "id": "22721bf2",
   "metadata": {},
   "outputs": [
    {
     "data": {
      "text/plain": [
       "['Action',\n",
       " 'Adventure',\n",
       " 'Horror',\n",
       " 'Sci-Fi',\n",
       " 'Crime',\n",
       " 'Drama',\n",
       " 'Romance',\n",
       " 'Mystery',\n",
       " 'Thriller',\n",
       " 'Family',\n",
       " 'Fantasy',\n",
       " 'Biography',\n",
       " 'Comedy',\n",
       " 'Music',\n",
       " 'Musical',\n",
       " 'War',\n",
       " 'History',\n",
       " 'Sport',\n",
       " 'Animation',\n",
       " 'Western']"
      ]
     },
     "execution_count": 90,
     "metadata": {},
     "output_type": "execute_result"
    }
   ],
   "source": [
    "uniq_genre"
   ]
  },
  {
   "cell_type": "code",
   "execution_count": null,
   "id": "97a581a3",
   "metadata": {},
   "outputs": [],
   "source": []
  },
  {
   "cell_type": "markdown",
   "id": "95aa4d4c",
   "metadata": {},
   "source": [
    "### 1.3 No: of Action movie in the Data"
   ]
  },
  {
   "cell_type": "code",
   "execution_count": 91,
   "id": "546e3135",
   "metadata": {
    "scrolled": false
   },
   "outputs": [
    {
     "data": {
      "text/html": [
       "<div>\n",
       "<style scoped>\n",
       "    .dataframe tbody tr th:only-of-type {\n",
       "        vertical-align: middle;\n",
       "    }\n",
       "\n",
       "    .dataframe tbody tr th {\n",
       "        vertical-align: top;\n",
       "    }\n",
       "\n",
       "    .dataframe thead th {\n",
       "        text-align: right;\n",
       "    }\n",
       "</style>\n",
       "<table border=\"1\" class=\"dataframe\">\n",
       "  <thead>\n",
       "    <tr style=\"text-align: right;\">\n",
       "      <th></th>\n",
       "      <th>Title</th>\n",
       "      <th>Release_Year</th>\n",
       "      <th>Duration</th>\n",
       "      <th>Collection</th>\n",
       "      <th>Genre</th>\n",
       "      <th>Director</th>\n",
       "      <th>Rating</th>\n",
       "      <th>Votes</th>\n",
       "    </tr>\n",
       "  </thead>\n",
       "  <tbody>\n",
       "    <tr>\n",
       "      <th>1</th>\n",
       "      <td>Predator</td>\n",
       "      <td>1987</td>\n",
       "      <td>107</td>\n",
       "      <td>59.74</td>\n",
       "      <td>Action, Adventure, Horror</td>\n",
       "      <td>John McTiernan</td>\n",
       "      <td>7.8</td>\n",
       "      <td>411198</td>\n",
       "    </tr>\n",
       "    <tr>\n",
       "      <th>2</th>\n",
       "      <td>Predators</td>\n",
       "      <td>2010</td>\n",
       "      <td>107</td>\n",
       "      <td>52.00</td>\n",
       "      <td>Action, Adventure, Sci-Fi</td>\n",
       "      <td>Nimród Antal</td>\n",
       "      <td>6.4</td>\n",
       "      <td>227827</td>\n",
       "    </tr>\n",
       "    <tr>\n",
       "      <th>3</th>\n",
       "      <td>Predator 2</td>\n",
       "      <td>1990</td>\n",
       "      <td>108</td>\n",
       "      <td>30.67</td>\n",
       "      <td>Action, Horror, Sci-Fi</td>\n",
       "      <td>Stephen Hopkins</td>\n",
       "      <td>6.3</td>\n",
       "      <td>164417</td>\n",
       "    </tr>\n",
       "    <tr>\n",
       "      <th>9</th>\n",
       "      <td>Heat</td>\n",
       "      <td>1995</td>\n",
       "      <td>170</td>\n",
       "      <td>67.44</td>\n",
       "      <td>Action, Crime, Drama</td>\n",
       "      <td>Michael Mann</td>\n",
       "      <td>8.3</td>\n",
       "      <td>644126</td>\n",
       "    </tr>\n",
       "    <tr>\n",
       "      <th>10</th>\n",
       "      <td>The Lord of the Rings: The Fellowship of the Ring</td>\n",
       "      <td>2001</td>\n",
       "      <td>178</td>\n",
       "      <td>315.54</td>\n",
       "      <td>Action, Adventure, Drama</td>\n",
       "      <td>Peter Jackson</td>\n",
       "      <td>8.8</td>\n",
       "      <td>1822526</td>\n",
       "    </tr>\n",
       "    <tr>\n",
       "      <th>...</th>\n",
       "      <td>...</td>\n",
       "      <td>...</td>\n",
       "      <td>...</td>\n",
       "      <td>...</td>\n",
       "      <td>...</td>\n",
       "      <td>...</td>\n",
       "      <td>...</td>\n",
       "      <td>...</td>\n",
       "    </tr>\n",
       "    <tr>\n",
       "      <th>583</th>\n",
       "      <td>Bad Boys II</td>\n",
       "      <td>2003</td>\n",
       "      <td>147</td>\n",
       "      <td>138.61</td>\n",
       "      <td>Action, Comedy, Crime</td>\n",
       "      <td>Michael Bay</td>\n",
       "      <td>6.6</td>\n",
       "      <td>249271</td>\n",
       "    </tr>\n",
       "    <tr>\n",
       "      <th>585</th>\n",
       "      <td>Spy Kids 2: Island of Lost Dreams</td>\n",
       "      <td>2002</td>\n",
       "      <td>100</td>\n",
       "      <td>85.85</td>\n",
       "      <td>Action, Adventure, Comedy</td>\n",
       "      <td>Robert Rodriguez</td>\n",
       "      <td>5.2</td>\n",
       "      <td>67555</td>\n",
       "    </tr>\n",
       "    <tr>\n",
       "      <th>588</th>\n",
       "      <td>Underworld: Rise of the Lycans</td>\n",
       "      <td>2009</td>\n",
       "      <td>92</td>\n",
       "      <td>45.80</td>\n",
       "      <td>Action, Fantasy, Thriller</td>\n",
       "      <td>Patrick Tatopoulos</td>\n",
       "      <td>6.5</td>\n",
       "      <td>159849</td>\n",
       "    </tr>\n",
       "    <tr>\n",
       "      <th>591</th>\n",
       "      <td>The Green Hornet</td>\n",
       "      <td>2011</td>\n",
       "      <td>119</td>\n",
       "      <td>98.78</td>\n",
       "      <td>Action, Comedy, Crime</td>\n",
       "      <td>Michel Gondry</td>\n",
       "      <td>5.8</td>\n",
       "      <td>160521</td>\n",
       "    </tr>\n",
       "    <tr>\n",
       "      <th>594</th>\n",
       "      <td>Escape from Alcatraz</td>\n",
       "      <td>1979</td>\n",
       "      <td>112</td>\n",
       "      <td>43.00</td>\n",
       "      <td>Action, Biography, Crime</td>\n",
       "      <td>Don Siegel</td>\n",
       "      <td>7.6</td>\n",
       "      <td>132883</td>\n",
       "    </tr>\n",
       "  </tbody>\n",
       "</table>\n",
       "<p>257 rows × 8 columns</p>\n",
       "</div>"
      ],
      "text/plain": [
       "                                                 Title  Release_Year  \\\n",
       "1                                             Predator          1987   \n",
       "2                                            Predators          2010   \n",
       "3                                           Predator 2          1990   \n",
       "9                                                 Heat          1995   \n",
       "10   The Lord of the Rings: The Fellowship of the Ring          2001   \n",
       "..                                                 ...           ...   \n",
       "583                                        Bad Boys II          2003   \n",
       "585                  Spy Kids 2: Island of Lost Dreams          2002   \n",
       "588                     Underworld: Rise of the Lycans          2009   \n",
       "591                                   The Green Hornet          2011   \n",
       "594                               Escape from Alcatraz          1979   \n",
       "\n",
       "     Duration  Collection                      Genre            Director  \\\n",
       "1         107       59.74  Action, Adventure, Horror      John McTiernan   \n",
       "2         107       52.00  Action, Adventure, Sci-Fi        Nimród Antal   \n",
       "3         108       30.67     Action, Horror, Sci-Fi     Stephen Hopkins   \n",
       "9         170       67.44       Action, Crime, Drama        Michael Mann   \n",
       "10        178      315.54   Action, Adventure, Drama       Peter Jackson   \n",
       "..        ...         ...                        ...                 ...   \n",
       "583       147      138.61      Action, Comedy, Crime         Michael Bay   \n",
       "585       100       85.85  Action, Adventure, Comedy    Robert Rodriguez   \n",
       "588        92       45.80  Action, Fantasy, Thriller  Patrick Tatopoulos   \n",
       "591       119       98.78      Action, Comedy, Crime       Michel Gondry   \n",
       "594       112       43.00   Action, Biography, Crime          Don Siegel   \n",
       "\n",
       "     Rating    Votes  \n",
       "1       7.8   411198  \n",
       "2       6.4   227827  \n",
       "3       6.3   164417  \n",
       "9       8.3   644126  \n",
       "10      8.8  1822526  \n",
       "..      ...      ...  \n",
       "583     6.6   249271  \n",
       "585     5.2    67555  \n",
       "588     6.5   159849  \n",
       "591     5.8   160521  \n",
       "594     7.6   132883  \n",
       "\n",
       "[257 rows x 8 columns]"
      ]
     },
     "execution_count": 91,
     "metadata": {},
     "output_type": "execute_result"
    }
   ],
   "source": [
    "(data[data['Genre'].str.contains('Action')])"
   ]
  },
  {
   "cell_type": "markdown",
   "id": "c77883d9",
   "metadata": {},
   "source": [
    "### 1.4 No: of Comedy movie in the Data"
   ]
  },
  {
   "cell_type": "code",
   "execution_count": 92,
   "id": "9c4c82b9",
   "metadata": {},
   "outputs": [
    {
     "data": {
      "text/html": [
       "<div>\n",
       "<style scoped>\n",
       "    .dataframe tbody tr th:only-of-type {\n",
       "        vertical-align: middle;\n",
       "    }\n",
       "\n",
       "    .dataframe tbody tr th {\n",
       "        vertical-align: top;\n",
       "    }\n",
       "\n",
       "    .dataframe thead th {\n",
       "        text-align: right;\n",
       "    }\n",
       "</style>\n",
       "<table border=\"1\" class=\"dataframe\">\n",
       "  <thead>\n",
       "    <tr style=\"text-align: right;\">\n",
       "      <th></th>\n",
       "      <th>Title</th>\n",
       "      <th>Release_Year</th>\n",
       "      <th>Duration</th>\n",
       "      <th>Collection</th>\n",
       "      <th>Genre</th>\n",
       "      <th>Director</th>\n",
       "      <th>Rating</th>\n",
       "      <th>Votes</th>\n",
       "    </tr>\n",
       "  </thead>\n",
       "  <tbody>\n",
       "    <tr>\n",
       "      <th>27</th>\n",
       "      <td>Grease 2</td>\n",
       "      <td>1982</td>\n",
       "      <td>115</td>\n",
       "      <td>15.17</td>\n",
       "      <td>Comedy, Music, Musical</td>\n",
       "      <td>Patricia Birch</td>\n",
       "      <td>4.4</td>\n",
       "      <td>35767</td>\n",
       "    </tr>\n",
       "    <tr>\n",
       "      <th>28</th>\n",
       "      <td>American Pie</td>\n",
       "      <td>1999</td>\n",
       "      <td>95</td>\n",
       "      <td>102.56</td>\n",
       "      <td>Comedy</td>\n",
       "      <td>Paul Weitz</td>\n",
       "      <td>7.0</td>\n",
       "      <td>403558</td>\n",
       "    </tr>\n",
       "    <tr>\n",
       "      <th>38</th>\n",
       "      <td>Men in Black</td>\n",
       "      <td>1997</td>\n",
       "      <td>98</td>\n",
       "      <td>250.69</td>\n",
       "      <td>Action, Adventure, Comedy</td>\n",
       "      <td>Barry Sonnenfeld</td>\n",
       "      <td>7.3</td>\n",
       "      <td>561171</td>\n",
       "    </tr>\n",
       "    <tr>\n",
       "      <th>47</th>\n",
       "      <td>Ghostbusters</td>\n",
       "      <td>1984</td>\n",
       "      <td>105</td>\n",
       "      <td>238.63</td>\n",
       "      <td>Action, Comedy, Fantasy</td>\n",
       "      <td>Ivan Reitman</td>\n",
       "      <td>7.8</td>\n",
       "      <td>409289</td>\n",
       "    </tr>\n",
       "    <tr>\n",
       "      <th>54</th>\n",
       "      <td>Back to the Future</td>\n",
       "      <td>1985</td>\n",
       "      <td>116</td>\n",
       "      <td>210.61</td>\n",
       "      <td>Adventure, Comedy, Sci-Fi</td>\n",
       "      <td>Robert Zemeckis</td>\n",
       "      <td>8.5</td>\n",
       "      <td>1179108</td>\n",
       "    </tr>\n",
       "    <tr>\n",
       "      <th>...</th>\n",
       "      <td>...</td>\n",
       "      <td>...</td>\n",
       "      <td>...</td>\n",
       "      <td>...</td>\n",
       "      <td>...</td>\n",
       "      <td>...</td>\n",
       "      <td>...</td>\n",
       "      <td>...</td>\n",
       "    </tr>\n",
       "    <tr>\n",
       "      <th>593</th>\n",
       "      <td>Madagascar: Escape 2 Africa</td>\n",
       "      <td>2008</td>\n",
       "      <td>89</td>\n",
       "      <td>180.01</td>\n",
       "      <td>Animation, Adventure, Comedy</td>\n",
       "      <td>Eric Darnell</td>\n",
       "      <td>6.6</td>\n",
       "      <td>225680</td>\n",
       "    </tr>\n",
       "    <tr>\n",
       "      <th>595</th>\n",
       "      <td>Evan Almighty</td>\n",
       "      <td>2007</td>\n",
       "      <td>96</td>\n",
       "      <td>100.46</td>\n",
       "      <td>Comedy, Family, Fantasy</td>\n",
       "      <td>Tom Shadyac</td>\n",
       "      <td>5.4</td>\n",
       "      <td>147385</td>\n",
       "    </tr>\n",
       "    <tr>\n",
       "      <th>596</th>\n",
       "      <td>Antz</td>\n",
       "      <td>1998</td>\n",
       "      <td>83</td>\n",
       "      <td>90.76</td>\n",
       "      <td>Animation, Adventure, Comedy</td>\n",
       "      <td>Eric Darnell</td>\n",
       "      <td>6.6</td>\n",
       "      <td>154890</td>\n",
       "    </tr>\n",
       "    <tr>\n",
       "      <th>597</th>\n",
       "      <td>Bride &amp; Prejudice</td>\n",
       "      <td>2004</td>\n",
       "      <td>122</td>\n",
       "      <td>6.60</td>\n",
       "      <td>Comedy, Drama, Musical</td>\n",
       "      <td>Gurinder Chadha</td>\n",
       "      <td>6.2</td>\n",
       "      <td>20887</td>\n",
       "    </tr>\n",
       "    <tr>\n",
       "      <th>598</th>\n",
       "      <td>Deuce Bigalow: European Gigolo</td>\n",
       "      <td>2005</td>\n",
       "      <td>83</td>\n",
       "      <td>22.26</td>\n",
       "      <td>Comedy</td>\n",
       "      <td>Mike Bigelow</td>\n",
       "      <td>4.6</td>\n",
       "      <td>51030</td>\n",
       "    </tr>\n",
       "  </tbody>\n",
       "</table>\n",
       "<p>195 rows × 8 columns</p>\n",
       "</div>"
      ],
      "text/plain": [
       "                              Title  Release_Year  Duration  Collection  \\\n",
       "27                         Grease 2          1982       115       15.17   \n",
       "28                     American Pie          1999        95      102.56   \n",
       "38                     Men in Black          1997        98      250.69   \n",
       "47                     Ghostbusters          1984       105      238.63   \n",
       "54               Back to the Future          1985       116      210.61   \n",
       "..                              ...           ...       ...         ...   \n",
       "593     Madagascar: Escape 2 Africa          2008        89      180.01   \n",
       "595                   Evan Almighty          2007        96      100.46   \n",
       "596                            Antz          1998        83       90.76   \n",
       "597               Bride & Prejudice          2004       122        6.60   \n",
       "598  Deuce Bigalow: European Gigolo          2005        83       22.26   \n",
       "\n",
       "                            Genre          Director  Rating    Votes  \n",
       "27         Comedy, Music, Musical    Patricia Birch     4.4    35767  \n",
       "28                         Comedy        Paul Weitz     7.0   403558  \n",
       "38      Action, Adventure, Comedy  Barry Sonnenfeld     7.3   561171  \n",
       "47        Action, Comedy, Fantasy      Ivan Reitman     7.8   409289  \n",
       "54      Adventure, Comedy, Sci-Fi   Robert Zemeckis     8.5  1179108  \n",
       "..                            ...               ...     ...      ...  \n",
       "593  Animation, Adventure, Comedy      Eric Darnell     6.6   225680  \n",
       "595       Comedy, Family, Fantasy       Tom Shadyac     5.4   147385  \n",
       "596  Animation, Adventure, Comedy      Eric Darnell     6.6   154890  \n",
       "597        Comedy, Drama, Musical   Gurinder Chadha     6.2    20887  \n",
       "598                        Comedy      Mike Bigelow     4.6    51030  \n",
       "\n",
       "[195 rows x 8 columns]"
      ]
     },
     "execution_count": 92,
     "metadata": {},
     "output_type": "execute_result"
    }
   ],
   "source": [
    "(data[data['Genre'].str.contains('Comedy')])"
   ]
  },
  {
   "cell_type": "code",
   "execution_count": null,
   "id": "52c02d2f",
   "metadata": {},
   "outputs": [],
   "source": []
  },
  {
   "cell_type": "markdown",
   "id": "110c19ab",
   "metadata": {},
   "source": [
    "### 1.5 No:of Sci-Fi Movie present in the Data"
   ]
  },
  {
   "cell_type": "code",
   "execution_count": 93,
   "id": "d9d12da3",
   "metadata": {},
   "outputs": [
    {
     "data": {
      "text/html": [
       "<div>\n",
       "<style scoped>\n",
       "    .dataframe tbody tr th:only-of-type {\n",
       "        vertical-align: middle;\n",
       "    }\n",
       "\n",
       "    .dataframe tbody tr th {\n",
       "        vertical-align: top;\n",
       "    }\n",
       "\n",
       "    .dataframe thead th {\n",
       "        text-align: right;\n",
       "    }\n",
       "</style>\n",
       "<table border=\"1\" class=\"dataframe\">\n",
       "  <thead>\n",
       "    <tr style=\"text-align: right;\">\n",
       "      <th></th>\n",
       "      <th>Title</th>\n",
       "      <th>Release_Year</th>\n",
       "      <th>Duration</th>\n",
       "      <th>Collection</th>\n",
       "      <th>Genre</th>\n",
       "      <th>Director</th>\n",
       "      <th>Rating</th>\n",
       "      <th>Votes</th>\n",
       "    </tr>\n",
       "  </thead>\n",
       "  <tbody>\n",
       "    <tr>\n",
       "      <th>2</th>\n",
       "      <td>Predators</td>\n",
       "      <td>2010</td>\n",
       "      <td>107</td>\n",
       "      <td>52.00</td>\n",
       "      <td>Action, Adventure, Sci-Fi</td>\n",
       "      <td>Nimród Antal</td>\n",
       "      <td>6.4</td>\n",
       "      <td>227827</td>\n",
       "    </tr>\n",
       "    <tr>\n",
       "      <th>3</th>\n",
       "      <td>Predator 2</td>\n",
       "      <td>1990</td>\n",
       "      <td>108</td>\n",
       "      <td>30.67</td>\n",
       "      <td>Action, Horror, Sci-Fi</td>\n",
       "      <td>Stephen Hopkins</td>\n",
       "      <td>6.3</td>\n",
       "      <td>164417</td>\n",
       "    </tr>\n",
       "    <tr>\n",
       "      <th>18</th>\n",
       "      <td>Volcano</td>\n",
       "      <td>1997</td>\n",
       "      <td>104</td>\n",
       "      <td>49.32</td>\n",
       "      <td>Action, Drama, Sci-Fi</td>\n",
       "      <td>Mick Jackson</td>\n",
       "      <td>5.5</td>\n",
       "      <td>76770</td>\n",
       "    </tr>\n",
       "    <tr>\n",
       "      <th>20</th>\n",
       "      <td>Inception</td>\n",
       "      <td>2010</td>\n",
       "      <td>148</td>\n",
       "      <td>292.58</td>\n",
       "      <td>Action, Adventure, Sci-Fi</td>\n",
       "      <td>Christopher Nolan</td>\n",
       "      <td>8.8</td>\n",
       "      <td>2303446</td>\n",
       "    </tr>\n",
       "    <tr>\n",
       "      <th>21</th>\n",
       "      <td>Spider-Man</td>\n",
       "      <td>2002</td>\n",
       "      <td>121</td>\n",
       "      <td>403.71</td>\n",
       "      <td>Action, Adventure, Sci-Fi</td>\n",
       "      <td>Sam Raimi</td>\n",
       "      <td>7.4</td>\n",
       "      <td>805449</td>\n",
       "    </tr>\n",
       "    <tr>\n",
       "      <th>...</th>\n",
       "      <td>...</td>\n",
       "      <td>...</td>\n",
       "      <td>...</td>\n",
       "      <td>...</td>\n",
       "      <td>...</td>\n",
       "      <td>...</td>\n",
       "      <td>...</td>\n",
       "      <td>...</td>\n",
       "    </tr>\n",
       "    <tr>\n",
       "      <th>555</th>\n",
       "      <td>The Day the Earth Stood Still</td>\n",
       "      <td>2008</td>\n",
       "      <td>104</td>\n",
       "      <td>79.37</td>\n",
       "      <td>Adventure, Drama, Sci-Fi</td>\n",
       "      <td>Scott Derrickson</td>\n",
       "      <td>5.5</td>\n",
       "      <td>170628</td>\n",
       "    </tr>\n",
       "    <tr>\n",
       "      <th>571</th>\n",
       "      <td>Daybreakers</td>\n",
       "      <td>2009</td>\n",
       "      <td>98</td>\n",
       "      <td>30.10</td>\n",
       "      <td>Action, Horror, Sci-Fi</td>\n",
       "      <td>Michael Spierig</td>\n",
       "      <td>6.4</td>\n",
       "      <td>128888</td>\n",
       "    </tr>\n",
       "    <tr>\n",
       "      <th>572</th>\n",
       "      <td>Æon Flux</td>\n",
       "      <td>2005</td>\n",
       "      <td>93</td>\n",
       "      <td>25.86</td>\n",
       "      <td>Action, Adventure, Sci-Fi</td>\n",
       "      <td>Karyn Kusama</td>\n",
       "      <td>5.4</td>\n",
       "      <td>128412</td>\n",
       "    </tr>\n",
       "    <tr>\n",
       "      <th>581</th>\n",
       "      <td>RoboCop 3</td>\n",
       "      <td>1993</td>\n",
       "      <td>104</td>\n",
       "      <td>10.70</td>\n",
       "      <td>Action, Crime, Sci-Fi</td>\n",
       "      <td>Fred Dekker</td>\n",
       "      <td>4.1</td>\n",
       "      <td>50486</td>\n",
       "    </tr>\n",
       "    <tr>\n",
       "      <th>582</th>\n",
       "      <td>Next</td>\n",
       "      <td>2007</td>\n",
       "      <td>96</td>\n",
       "      <td>18.21</td>\n",
       "      <td>Action, Sci-Fi, Thriller</td>\n",
       "      <td>Lee Tamahori</td>\n",
       "      <td>6.2</td>\n",
       "      <td>158389</td>\n",
       "    </tr>\n",
       "  </tbody>\n",
       "</table>\n",
       "<p>97 rows × 8 columns</p>\n",
       "</div>"
      ],
      "text/plain": [
       "                             Title  Release_Year  Duration  Collection  \\\n",
       "2                        Predators          2010       107       52.00   \n",
       "3                       Predator 2          1990       108       30.67   \n",
       "18                         Volcano          1997       104       49.32   \n",
       "20                       Inception          2010       148      292.58   \n",
       "21                      Spider-Man          2002       121      403.71   \n",
       "..                             ...           ...       ...         ...   \n",
       "555  The Day the Earth Stood Still          2008       104       79.37   \n",
       "571                    Daybreakers          2009        98       30.10   \n",
       "572                       Æon Flux          2005        93       25.86   \n",
       "581                      RoboCop 3          1993       104       10.70   \n",
       "582                           Next          2007        96       18.21   \n",
       "\n",
       "                         Genre           Director  Rating    Votes  \n",
       "2    Action, Adventure, Sci-Fi       Nimród Antal     6.4   227827  \n",
       "3       Action, Horror, Sci-Fi    Stephen Hopkins     6.3   164417  \n",
       "18       Action, Drama, Sci-Fi       Mick Jackson     5.5    76770  \n",
       "20   Action, Adventure, Sci-Fi  Christopher Nolan     8.8  2303446  \n",
       "21   Action, Adventure, Sci-Fi          Sam Raimi     7.4   805449  \n",
       "..                         ...                ...     ...      ...  \n",
       "555   Adventure, Drama, Sci-Fi   Scott Derrickson     5.5   170628  \n",
       "571     Action, Horror, Sci-Fi    Michael Spierig     6.4   128888  \n",
       "572  Action, Adventure, Sci-Fi       Karyn Kusama     5.4   128412  \n",
       "581      Action, Crime, Sci-Fi        Fred Dekker     4.1    50486  \n",
       "582   Action, Sci-Fi, Thriller       Lee Tamahori     6.2   158389  \n",
       "\n",
       "[97 rows x 8 columns]"
      ]
     },
     "execution_count": 93,
     "metadata": {},
     "output_type": "execute_result"
    }
   ],
   "source": [
    "(data[data['Genre'].str.contains('Sci-Fi')])"
   ]
  },
  {
   "cell_type": "code",
   "execution_count": null,
   "id": "cdfde1a6",
   "metadata": {},
   "outputs": [],
   "source": []
  },
  {
   "cell_type": "code",
   "execution_count": null,
   "id": "cb220637",
   "metadata": {},
   "outputs": [],
   "source": []
  },
  {
   "cell_type": "markdown",
   "id": "4ac54a8a",
   "metadata": {},
   "source": [
    "## 1.6 how many times that each genre had occured"
   ]
  },
  {
   "cell_type": "code",
   "execution_count": 94,
   "id": "642e9a02",
   "metadata": {},
   "outputs": [
    {
     "data": {
      "text/plain": [
       "Counter({'Action': 257,\n",
       "         'Adventure': 212,\n",
       "         'Horror': 95,\n",
       "         'Sci-Fi': 97,\n",
       "         'Crime': 108,\n",
       "         'Drama': 175,\n",
       "         'Romance': 43,\n",
       "         'Mystery': 61,\n",
       "         'Thriller': 115,\n",
       "         'Family': 51,\n",
       "         'Fantasy': 82,\n",
       "         'Biography': 19,\n",
       "         'Comedy': 195,\n",
       "         'Music': 7,\n",
       "         'Musical': 5,\n",
       "         'War': 6,\n",
       "         'History': 12,\n",
       "         'Sport': 11,\n",
       "         'Animation': 38,\n",
       "         'Western': 1})"
      ]
     },
     "execution_count": 94,
     "metadata": {},
     "output_type": "execute_result"
    }
   ],
   "source": [
    "Counter(genre_cat)"
   ]
  },
  {
   "cell_type": "code",
   "execution_count": 136,
   "id": "fe98d104",
   "metadata": {
    "collapsed": true
   },
   "outputs": [
    {
     "data": {
      "text/html": [
       "<div>\n",
       "<style scoped>\n",
       "    .dataframe tbody tr th:only-of-type {\n",
       "        vertical-align: middle;\n",
       "    }\n",
       "\n",
       "    .dataframe tbody tr th {\n",
       "        vertical-align: top;\n",
       "    }\n",
       "\n",
       "    .dataframe thead th {\n",
       "        text-align: right;\n",
       "    }\n",
       "</style>\n",
       "<table border=\"1\" class=\"dataframe\">\n",
       "  <thead>\n",
       "    <tr style=\"text-align: right;\">\n",
       "      <th></th>\n",
       "      <th>0</th>\n",
       "    </tr>\n",
       "  </thead>\n",
       "  <tbody>\n",
       "    <tr>\n",
       "      <th>0</th>\n",
       "      <td>Action</td>\n",
       "    </tr>\n",
       "    <tr>\n",
       "      <th>1</th>\n",
       "      <td>Adventure</td>\n",
       "    </tr>\n",
       "    <tr>\n",
       "      <th>2</th>\n",
       "      <td>Horror</td>\n",
       "    </tr>\n",
       "    <tr>\n",
       "      <th>3</th>\n",
       "      <td>Action</td>\n",
       "    </tr>\n",
       "    <tr>\n",
       "      <th>4</th>\n",
       "      <td>Adventure</td>\n",
       "    </tr>\n",
       "    <tr>\n",
       "      <th>...</th>\n",
       "      <td>...</td>\n",
       "    </tr>\n",
       "    <tr>\n",
       "      <th>1585</th>\n",
       "      <td>Drama</td>\n",
       "    </tr>\n",
       "    <tr>\n",
       "      <th>1586</th>\n",
       "      <td>Musical</td>\n",
       "    </tr>\n",
       "    <tr>\n",
       "      <th>1587</th>\n",
       "      <td>Comedy</td>\n",
       "    </tr>\n",
       "    <tr>\n",
       "      <th>1588</th>\n",
       "      <td>Adventure</td>\n",
       "    </tr>\n",
       "    <tr>\n",
       "      <th>1589</th>\n",
       "      <td>Horror</td>\n",
       "    </tr>\n",
       "  </tbody>\n",
       "</table>\n",
       "<p>1590 rows × 1 columns</p>\n",
       "</div>"
      ],
      "text/plain": [
       "              0\n",
       "0        Action\n",
       "1     Adventure\n",
       "2        Horror\n",
       "3        Action\n",
       "4     Adventure\n",
       "...         ...\n",
       "1585      Drama\n",
       "1586    Musical\n",
       "1587     Comedy\n",
       "1588  Adventure\n",
       "1589     Horror\n",
       "\n",
       "[1590 rows x 1 columns]"
      ]
     },
     "execution_count": 136,
     "metadata": {},
     "output_type": "execute_result"
    }
   ],
   "source": [
    "gen_cat = pd.DataFrame([genre_cat]).T\n",
    "gen_cat"
   ]
  },
  {
   "cell_type": "code",
   "execution_count": 144,
   "id": "2548fe9a",
   "metadata": {},
   "outputs": [
    {
     "data": {
      "image/png": "[encoded data removed]",
      "text/plain": [
       "<Figure size 432x288 with 1 Axes>"
      ]
     },
     "metadata": {
      "needs_background": "light"
     },
     "output_type": "display_data"
    }
   ],
   "source": [
    "gen_cat.value_counts().plot.bar()\n",
    "plt.title('Counting the Genre')\n",
    "plt.xlabel('gen_cat')\n",
    "plt.ylabel('Counting')\n",
    "plt.show()"
   ]
  },
  {
   "cell_type": "markdown",
   "id": "53395f4e",
   "metadata": {},
   "source": [
    "### 1.7 No: of movies made by the each  Directors"
   ]
  },
  {
   "cell_type": "code",
   "execution_count": 146,
   "id": "5eb66d90",
   "metadata": {},
   "outputs": [
    {
     "data": {
      "text/plain": [
       "Steven Spielberg     9\n",
       "Tim Burton           9\n",
       "Quentin Tarantino    7\n",
       "Sam Raimi            7\n",
       "James Cameron        7\n",
       "                    ..\n",
       "Nicholas Stoller     1\n",
       "John Hillcoat        1\n",
       "Tom Brady            1\n",
       "Sam Weisman          1\n",
       "Breck Eisner         1\n",
       "Name: Director, Length: 342, dtype: int64"
      ]
     },
     "execution_count": 146,
     "metadata": {},
     "output_type": "execute_result"
    }
   ],
   "source": [
    "data['Director'].value_counts()"
   ]
  },
  {
   "cell_type": "code",
   "execution_count": 96,
   "id": "b93d99ea",
   "metadata": {
    "scrolled": true
   },
   "outputs": [
    {
     "data": {
      "text/plain": [
       "Counter({'John McTiernan': 3,\n",
       "         'Nimród Antal': 1,\n",
       "         'Stephen Hopkins': 1,\n",
       "         'Francis Ford Coppola': 3,\n",
       "         'Frank Darabont': 3,\n",
       "         'Robert Zemeckis': 6,\n",
       "         'Jaume Collet-Serra': 1,\n",
       "         'Quentin Tarantino': 7,\n",
       "         'Michael Mann': 5,\n",
       "         'Peter Jackson': 5,\n",
       "         'Paul W.S. Anderson': 4,\n",
       "         'James Cameron': 7,\n",
       "         'Chris Columbus': 6,\n",
       "         'Christopher Nolan': 6,\n",
       "         'David Fincher': 6,\n",
       "         'Mary Harron': 1,\n",
       "         'Mike Newell': 3,\n",
       "         'Mick Jackson': 1,\n",
       "         'Martin Scorsese': 5,\n",
       "         'Sam Raimi': 7,\n",
       "         'Colin Strause': 1,\n",
       "         'Ridley Scott': 5,\n",
       "         'Jim Gillespie': 1,\n",
       "         'Steven Spielberg': 9,\n",
       "         'Patricia Birch': 1,\n",
       "         'Paul Weitz': 1,\n",
       "         'Francis Lawrence': 2,\n",
       "         'Brian De Palma': 4,\n",
       "         'George Lucas': 4,\n",
       "         'Barry Sonnenfeld': 3,\n",
       "         'Paul Verhoeven': 4,\n",
       "         'Gore Verbinski': 4,\n",
       "         'Ethan Coen': 1,\n",
       "         'Jon Favreau': 3,\n",
       "         'Ivan Reitman': 3,\n",
       "         'Darren Aronofsky': 3,\n",
       "         'Matthew Vaughn': 2,\n",
       "         'Gus Van Sant': 2,\n",
       "         'Catherine Hardwicke': 1,\n",
       "         'Wolfgang Petersen': 2,\n",
       "         'Lana Wachowski': 3,\n",
       "         'Donald Petrie': 1,\n",
       "         'Robert Rodriguez': 6,\n",
       "         'Wes Craven': 3,\n",
       "         'Stanley Kubrick': 2,\n",
       "         'Stephen Sommers': 4,\n",
       "         'Roland Emmerich': 7,\n",
       "         'Tony Kaye': 1,\n",
       "         'Curtis Hanson': 1,\n",
       "         'Rawson Marshall Thurber': 1,\n",
       "         'David Frankel': 1,\n",
       "         'John Lasseter': 2,\n",
       "         'Richard Curtis': 1,\n",
       "         'Roger Allers': 1,\n",
       "         'Guy Ritchie': 2,\n",
       "         'Keenen Ivory Wayans': 3,\n",
       "         'Alfonso Cuarón': 1,\n",
       "         'John G. Avildsen': 3,\n",
       "         'Joel Coen': 1,\n",
       "         'Ben Stiller': 1,\n",
       "         'Zack Snyder': 3,\n",
       "         'Richard Kelly': 1,\n",
       "         'Tim Burton': 9,\n",
       "         'Antoine Fuqua': 3,\n",
       "         'Adam McKay': 1,\n",
       "         'John Carpenter': 3,\n",
       "         'Baz Luhrmann': 1,\n",
       "         'Michael Bay': 5,\n",
       "         'Todd Phillips': 4,\n",
       "         'Edgar Wright': 3,\n",
       "         'Roman Polanski': 1,\n",
       "         'Martin Campbell': 1,\n",
       "         'M. Night Shyamalan': 3,\n",
       "         'William Friedkin': 2,\n",
       "         'David Yates': 3,\n",
       "         'Ron Howard': 5,\n",
       "         'Louis Leterrier': 3,\n",
       "         'Joel Gallen': 1,\n",
       "         'J.J. Abrams': 1,\n",
       "         'Nancy Meyers': 3,\n",
       "         'Bryan Singer': 2,\n",
       "         'Greg Mottola': 1,\n",
       "         'John Woo': 1,\n",
       "         'Steven Soderbergh': 3,\n",
       "         'Mel Gibson': 2,\n",
       "         'Frank Miller': 1,\n",
       "         \"Dan O'Bannon\": 1,\n",
       "         'Robert Luketic': 2,\n",
       "         'Dennis Dugan': 3,\n",
       "         'Patty Jenkins': 1,\n",
       "         'Richard Marquand': 1,\n",
       "         'Irvin Kershner': 3,\n",
       "         'Sean Penn': 1,\n",
       "         'Andrew Adamson': 3,\n",
       "         'Taylor Hackford': 1,\n",
       "         'Andrzej Bartkowiak': 1,\n",
       "         'David Dobkin': 1,\n",
       "         'Danny Boyle': 1,\n",
       "         'Joel Schumacher': 3,\n",
       "         'Clint Eastwood': 2,\n",
       "         'Stephen Norrington': 1,\n",
       "         'James McTeigue': 1,\n",
       "         'Andrew Stanton': 1,\n",
       "         'Joe Johnston': 2,\n",
       "         'James Wong': 3,\n",
       "         'Hugh Wilson': 1,\n",
       "         'Pascal Laugier': 1,\n",
       "         'Eric Bress': 1,\n",
       "         'Peter Farrelly': 1,\n",
       "         'Joe Pytka': 1,\n",
       "         'Sharon Maguire': 1,\n",
       "         'James Wan': 1,\n",
       "         'Richard Donner': 4,\n",
       "         'Jean-Pierre Jeunet': 2,\n",
       "         'Cameron Crowe': 1,\n",
       "         'Frank Coraci': 2,\n",
       "         'Victor Fleming': 1,\n",
       "         'Oliver Stone': 2,\n",
       "         'F. Gary Gray': 3,\n",
       "         'Judd Apatow': 2,\n",
       "         'Chuck Russell': 2,\n",
       "         'Doug Liman': 3,\n",
       "         'Lee Tamahori': 2,\n",
       "         'Nick Cassavetes': 1,\n",
       "         'Timur Bekmambetov': 1,\n",
       "         'Martin Brest': 1,\n",
       "         'Gavin Hood': 1,\n",
       "         'Roger Michell': 1,\n",
       "         'Neil Marshall': 1,\n",
       "         'Edward Zwick': 1,\n",
       "         'Terry Gilliam': 2,\n",
       "         'Jay Roach': 5,\n",
       "         'Ang Lee': 1,\n",
       "         'Jan de Bont': 3,\n",
       "         'Sean S. Cunningham': 1,\n",
       "         'Dominic Sena': 1,\n",
       "         'Kirk Jones': 1,\n",
       "         'John Milius': 1,\n",
       "         'Tobe Hooper': 1,\n",
       "         'Alejandro Amenábar': 1,\n",
       "         'Jason Reitman': 1,\n",
       "         'Andrew Davis': 1,\n",
       "         'Tony Scott': 2,\n",
       "         'Tim Story': 2,\n",
       "         'Bobby Farrelly': 3,\n",
       "         'Victor Salva': 2,\n",
       "         'Mark Steven Johnson': 2,\n",
       "         'George Miller': 4,\n",
       "         'Ruben Fleischer': 1,\n",
       "         'Jonathan Hensleigh': 1,\n",
       "         'Steven R. Monroe': 1,\n",
       "         'Renny Harlin': 3,\n",
       "         'Neill Blomkamp': 1,\n",
       "         'McG': 2,\n",
       "         'Gary Trousdale': 2,\n",
       "         'Oliver Hirschbiegel': 1,\n",
       "         'Kevin Reynolds': 1,\n",
       "         'Marc Forster': 2,\n",
       "         'Jon Turteltaub': 4,\n",
       "         'Boaz Yakin': 1,\n",
       "         'Ted Demme': 1,\n",
       "         'Justin Lin': 1,\n",
       "         'Joe Dante': 3,\n",
       "         'David Twohy': 2,\n",
       "         'Matt Reeves': 1,\n",
       "         'John Glen': 2,\n",
       "         'Shawn Levy': 2,\n",
       "         'Len Wiseman': 3,\n",
       "         'Albert Hughes': 2,\n",
       "         'David Wain': 1,\n",
       "         'Brett Ratner': 2,\n",
       "         'Gary Winick': 2,\n",
       "         'Spike Lee': 1,\n",
       "         'Sylvester Stallone': 2,\n",
       "         'Jonathan Mostow': 1,\n",
       "         'Mel Brooks': 1,\n",
       "         'Brad Silberling': 1,\n",
       "         'Alexandre Aja': 1,\n",
       "         'Terence Young': 1,\n",
       "         'Tom Tykwer': 1,\n",
       "         'Bryan Bertino': 1,\n",
       "         'Peter Segal': 4,\n",
       "         'Peter Faiman': 1,\n",
       "         'Paul Greengrass': 1,\n",
       "         'Dean DeBlois': 1,\n",
       "         'Rob Marshall': 2,\n",
       "         'Andrew Niccol': 1,\n",
       "         'Garth Jennings': 1,\n",
       "         'Robert Stevenson': 1,\n",
       "         'Alex Proyas': 1,\n",
       "         'Brian Helgeland': 1,\n",
       "         'Simon West': 2,\n",
       "         'Henry Selick': 1,\n",
       "         'J.B. Rogers': 1,\n",
       "         'Nicholas Stoller': 1,\n",
       "         'John Hillcoat': 1,\n",
       "         'Tom Brady': 1,\n",
       "         'Sam Weisman': 1,\n",
       "         'Roger Spottiswoode': 1,\n",
       "         'Craig Mazin': 1,\n",
       "         'Marcus Nispel': 2,\n",
       "         'Chris Wedge': 2,\n",
       "         'Mark Waters': 3,\n",
       "         'Tony Bancroft': 1,\n",
       "         'Eli Roth': 2,\n",
       "         'Randall Wallace': 1,\n",
       "         'Guy Hamilton': 2,\n",
       "         'Mark Herman': 1,\n",
       "         'Phillip Noyce': 1,\n",
       "         'Juan Carlos Fresnadillo': 1,\n",
       "         'David R. Ellis': 3,\n",
       "         'Lewis Gilbert': 1,\n",
       "         'Annabel Jankel': 1,\n",
       "         'Kevin Smith': 5,\n",
       "         'Richard Attenborough': 1,\n",
       "         'Mimi Leder': 1,\n",
       "         'Oren Peli': 1,\n",
       "         'Peter Berg': 1,\n",
       "         'Chris Buck': 1,\n",
       "         'Michael Apted': 1,\n",
       "         'David S. Goyer': 1,\n",
       "         'Steve Beck': 1,\n",
       "         'George P. Cosmatos': 1,\n",
       "         'Mary Lambert': 1,\n",
       "         'Jeannot Szwarc': 1,\n",
       "         'Wes Anderson': 1,\n",
       "         'Christian Alvart': 1,\n",
       "         'David Gordon Green': 1,\n",
       "         'David Zucker': 2,\n",
       "         'Franklin J. Schaffner': 1,\n",
       "         'Nick Castle': 1,\n",
       "         'Terry Jones': 1,\n",
       "         'Bo Welch': 1,\n",
       "         'Jay Chandrasekhar': 1,\n",
       "         'Mike Gabriel': 1,\n",
       "         'Samuel Bayer': 1,\n",
       "         'Danny Leiner': 1,\n",
       "         'John Singleton': 2,\n",
       "         'Andy Tennant': 1,\n",
       "         'Rob Zombie': 1,\n",
       "         'Tomas Alfredson': 1,\n",
       "         'Jaume Balagueró': 1,\n",
       "         'Thomas Carter': 1,\n",
       "         'Alexander Witt': 1,\n",
       "         'Ethan Maniquis': 1,\n",
       "         'Jason Friedberg': 2,\n",
       "         'Mikael Håfström': 1,\n",
       "         'Mike Hodges': 1,\n",
       "         'Stephen Herek': 1,\n",
       "         'Garry Marshall': 1,\n",
       "         'Xavier Gens': 1,\n",
       "         'Burr Steers': 1,\n",
       "         'Raja Gosnell': 2,\n",
       "         'Scott Derrickson': 2,\n",
       "         'Gil Kenan': 1,\n",
       "         'Walt Becker': 2,\n",
       "         'Jack Sholder': 1,\n",
       "         'Stefen Fangmeier': 1,\n",
       "         'Kevin Lima': 1,\n",
       "         'Ronny Yu': 2,\n",
       "         'Tom Shadyac': 2,\n",
       "         'Anne Fletcher': 1,\n",
       "         'Rob Cohen': 1,\n",
       "         'Neil Burger': 1,\n",
       "         'David Ayer': 1,\n",
       "         'George A. Romero': 3,\n",
       "         'Simon Wells': 1,\n",
       "         'Steven Brill': 1,\n",
       "         'Corey Yuen': 1,\n",
       "         'Harold Ramis': 1,\n",
       "         'Chris Weitz': 2,\n",
       "         'Andrew Douglas': 1,\n",
       "         'Takashi Shimizu': 1,\n",
       "         'Rob Minkoff': 2,\n",
       "         'Chris Miller': 1,\n",
       "         'John Dahl': 1,\n",
       "         'Alejandro G. Iñárritu': 1,\n",
       "         'Richard Fleischer': 1,\n",
       "         'Jerry Zucker': 1,\n",
       "         'Lasse Hallström': 2,\n",
       "         'Clyde Geronimi': 2,\n",
       "         'Robert Clouse': 1,\n",
       "         'Steven E. de Souza': 1,\n",
       "         'Bibo Bergeron': 1,\n",
       "         'Mark Neveldine': 1,\n",
       "         'Kent Alterman': 1,\n",
       "         'Lexi Alexander': 1,\n",
       "         'Vincenzo Natali': 1,\n",
       "         'David Slade': 1,\n",
       "         'Mike Mitchell': 2,\n",
       "         'Peyton Reed': 1,\n",
       "         'Richard LaGravenese': 1,\n",
       "         'Chris Noonan': 1,\n",
       "         'Rodrigo Cortés': 1,\n",
       "         'Trey Parker': 2,\n",
       "         'Peter MacDonald': 1,\n",
       "         'Joseph Ruben': 1,\n",
       "         'Pitof': 1,\n",
       "         'Brian Robbins': 1,\n",
       "         'Jesse Dylan': 1,\n",
       "         'Lawrence Kasdan': 1,\n",
       "         'Steve Carr': 1,\n",
       "         'Roger Donaldson': 1,\n",
       "         'Ken Annakin': 1,\n",
       "         'Aaron Blaise': 1,\n",
       "         'J.A. Bayona': 1,\n",
       "         'Robert Schwentke': 1,\n",
       "         'Allison Anders': 1,\n",
       "         'Rob Reiner': 1,\n",
       "         'Tom Vaughan': 1,\n",
       "         'Eric Leighton': 1,\n",
       "         'Terry George': 1,\n",
       "         'Joseph Sargent': 1,\n",
       "         'Gary Fleder': 1,\n",
       "         'Adam Shankman': 1,\n",
       "         'Norman Ferguson': 1,\n",
       "         'Darren Lynn Bousman': 1,\n",
       "         'Russell Mulcahy': 1,\n",
       "         'Brian Levant': 1,\n",
       "         'Stephen Hillenburg': 1,\n",
       "         'Ash Brannon': 1,\n",
       "         'John Polson': 1,\n",
       "         'Bill Duke': 1,\n",
       "         'Michael Spierig': 1,\n",
       "         'Karyn Kusama': 1,\n",
       "         'Rob Bowman': 1,\n",
       "         'David Silverman': 1,\n",
       "         'Carter Smith': 1,\n",
       "         'Tim Johnson': 1,\n",
       "         'Fred Dekker': 1,\n",
       "         'Roger Kumble': 1,\n",
       "         'Iain Softley': 1,\n",
       "         'Patrick Tatopoulos': 1,\n",
       "         'Ted Berman': 1,\n",
       "         'Virginie Despentes': 1,\n",
       "         'Michel Gondry': 1,\n",
       "         'Frank Oz': 1,\n",
       "         'Eric Darnell': 2,\n",
       "         'Don Siegel': 1,\n",
       "         'Gurinder Chadha': 1,\n",
       "         'Mike Bigelow': 1,\n",
       "         'Breck Eisner': 1})"
      ]
     },
     "execution_count": 96,
     "metadata": {},
     "output_type": "execute_result"
    }
   ],
   "source": [
    "Counter(data['Director'])"
   ]
  },
  {
   "cell_type": "code",
   "execution_count": null,
   "id": "88bccec1",
   "metadata": {},
   "outputs": [],
   "source": []
  },
  {
   "cell_type": "code",
   "execution_count": null,
   "id": "2f444886",
   "metadata": {},
   "outputs": [],
   "source": []
  },
  {
   "cell_type": "code",
   "execution_count": 97,
   "id": "fa5e3c2e",
   "metadata": {},
   "outputs": [],
   "source": [
    "## counting the no:of movies made by the each director"
   ]
  },
  {
   "cell_type": "code",
   "execution_count": 98,
   "id": "e27df36e",
   "metadata": {},
   "outputs": [
    {
     "data": {
      "image/png": "[encoded data removed]",
      "text/plain": [
       "<Figure size 3600x1080 with 1 Axes>"
      ]
     },
     "metadata": {
      "needs_background": "light"
     },
     "output_type": "display_data"
    }
   ],
   "source": [
    "plt.figure(figsize=(50,15))\n",
    "sns.countplot(x = 'Director',data = data)\n",
    "plt.xticks(rotation = 90)\n",
    "plt.title('No:of films made by the director')\n",
    "plt.show()"
   ]
  },
  {
   "cell_type": "code",
   "execution_count": null,
   "id": "22863e54",
   "metadata": {},
   "outputs": [],
   "source": []
  },
  {
   "cell_type": "code",
   "execution_count": null,
   "id": "04f362ce",
   "metadata": {},
   "outputs": [],
   "source": []
  },
  {
   "cell_type": "markdown",
   "id": "9a7f45cc",
   "metadata": {},
   "source": [
    "## 2 Bivarient Analysis"
   ]
  },
  {
   "cell_type": "code",
   "execution_count": null,
   "id": "eb4545f8",
   "metadata": {},
   "outputs": [],
   "source": []
  },
  {
   "cell_type": "markdown",
   "id": "d4cc1c29",
   "metadata": {},
   "source": [
    "## 2.1 Displaying the Movie which is more than 150 min"
   ]
  },
  {
   "cell_type": "code",
   "execution_count": 147,
   "id": "c5736c69",
   "metadata": {},
   "outputs": [
    {
     "data": {
      "text/plain": [
       "4                                         The Godfather\n",
       "8                                          Pulp Fiction\n",
       "9                                                  Heat\n",
       "10    The Lord of the Rings: The Fellowship of the Ring\n",
       "12                                              Titanic\n",
       "13                Harry Potter and the Sorcerer's Stone\n",
       "14                                      The Dark Knight\n",
       "29                                 Inglourious Basterds\n",
       "31                                         The Departed\n",
       "32                                            Gladiator\n",
       "Name: Title, dtype: object"
      ]
     },
     "execution_count": 147,
     "metadata": {},
     "output_type": "execute_result"
    }
   ],
   "source": [
    "data[data['Duration']>=150]['Title'] . head(10)"
   ]
  },
  {
   "cell_type": "markdown",
   "id": "605fdfc8",
   "metadata": {},
   "source": [
    "## 2.2 In which year the avg highest voting"
   ]
  },
  {
   "cell_type": "code",
   "execution_count": 100,
   "id": "b7100fee",
   "metadata": {},
   "outputs": [
    {
     "data": {
      "text/plain": [
       "Release_Year\n",
       "1972    1.819087e+06\n",
       "1977    1.343112e+06\n",
       "1971    8.185890e+05\n",
       "1994    8.170042e+05\n",
       "1974    7.041830e+05\n",
       "1976    5.675140e+05\n",
       "1975    5.655005e+05\n",
       "1999    5.276171e+05\n",
       "1983    5.087600e+05\n",
       "1980    4.883417e+05\n",
       "1991    4.693420e+05\n",
       "1995    4.489672e+05\n",
       "2010    4.254036e+05\n",
       "1990    4.055154e+05\n",
       "2009    4.034946e+05\n",
       "1988    3.881757e+05\n",
       "1998    3.767091e+05\n",
       "2002    3.667154e+05\n",
       "2006    3.598596e+05\n",
       "2003    3.507728e+05\n",
       "2000    3.437799e+05\n",
       "2001    3.424552e+05\n",
       "1997    3.415854e+05\n",
       "1979    3.404608e+05\n",
       "2008    3.384009e+05\n",
       "1968    3.220313e+05\n",
       "2007    3.194292e+05\n",
       "1939    3.131000e+05\n",
       "1984    3.119575e+05\n",
       "2004    3.024313e+05\n",
       "1986    3.005813e+05\n",
       "2005    2.838427e+05\n",
       "1992    2.554588e+05\n",
       "1982    2.469996e+05\n",
       "1993    2.366281e+05\n",
       "1996    2.308374e+05\n",
       "1985    2.304885e+05\n",
       "1973    2.035690e+05\n",
       "1987    2.033089e+05\n",
       "1989    1.830470e+05\n",
       "1964    1.803290e+05\n",
       "2011    1.605680e+05\n",
       "1978    1.604540e+05\n",
       "1981    1.600067e+05\n",
       "1940    1.440970e+05\n",
       "1951    1.409020e+05\n",
       "1953    1.389380e+05\n",
       "1962    1.110735e+05\n",
       "Name: Votes, dtype: float64"
      ]
     },
     "execution_count": 100,
     "metadata": {},
     "output_type": "execute_result"
    }
   ],
   "source": [
    "data.groupby('Release_Year')['Votes'].mean().sort_values(ascending=False)"
   ]
  },
  {
   "cell_type": "code",
   "execution_count": null,
   "id": "56c73184",
   "metadata": {},
   "outputs": [],
   "source": []
  },
  {
   "cell_type": "code",
   "execution_count": 101,
   "id": "b23564d6",
   "metadata": {},
   "outputs": [
    {
     "data": {
      "image/png": "[encoded data removed]",
      "text/plain": [
       "<Figure size 2160x720 with 1 Axes>"
      ]
     },
     "metadata": {
      "needs_background": "light"
     },
     "output_type": "display_data"
    }
   ],
   "source": [
    "plt.figure(figsize=(30,10))\n",
    "sns.barplot(x = 'Release_Year', y = 'Votes',data=data)\n",
    "plt.title('The avg highest voting')\n",
    "plt.xticks(rotation = 90)\n",
    "plt.show()"
   ]
  },
  {
   "cell_type": "code",
   "execution_count": null,
   "id": "8398cdbb",
   "metadata": {},
   "outputs": [],
   "source": []
  },
  {
   "cell_type": "markdown",
   "id": "ed501b86",
   "metadata": {},
   "source": [
    "## 2.3 Highest average Collection year wise "
   ]
  },
  {
   "cell_type": "code",
   "execution_count": 102,
   "id": "35a6df7c",
   "metadata": {},
   "outputs": [
    {
     "data": {
      "text/plain": [
       "Release_Year\n",
       "1977    322.740000\n",
       "1939    198.680000\n",
       "1991    175.702500\n",
       "1999    143.281000\n",
       "1972    134.970000\n",
       "1975    130.615000\n",
       "1994    130.197500\n",
       "2009    129.872000\n",
       "2002    129.261250\n",
       "1980    128.928333\n",
       "1984    128.700000\n",
       "2003    125.036579\n",
       "1986    124.966667\n",
       "1997    120.506111\n",
       "1983    119.532500\n",
       "2010    118.729643\n",
       "1976    117.240000\n",
       "2007    116.369391\n",
       "1996    115.291818\n",
       "1993    113.225000\n",
       "2004    111.666250\n",
       "1982    111.280000\n",
       "1989    110.303333\n",
       "2001    105.399697\n",
       "2005    103.933095\n",
       "2000    103.184643\n",
       "2006    100.940000\n",
       "2008     99.545405\n",
       "1973     97.763333\n",
       "1998     95.799333\n",
       "1995     91.263125\n",
       "1990     89.812000\n",
       "1953     87.400000\n",
       "1940     84.250000\n",
       "1964     76.675000\n",
       "1992     73.042727\n",
       "1978     72.310000\n",
       "1988     71.830000\n",
       "1985     71.713750\n",
       "2011     63.950000\n",
       "1987     57.544444\n",
       "1979     44.202000\n",
       "1974     44.080000\n",
       "1968     30.146667\n",
       "1962     27.585000\n",
       "1981     26.110000\n",
       "1971      6.210000\n",
       "1951      1.070000\n",
       "Name: Collection, dtype: float64"
      ]
     },
     "execution_count": 102,
     "metadata": {},
     "output_type": "execute_result"
    }
   ],
   "source": [
    "data.groupby('Release_Year')['Collection'].mean().sort_values(ascending = False)"
   ]
  },
  {
   "cell_type": "code",
   "execution_count": 103,
   "id": "a644908f",
   "metadata": {},
   "outputs": [],
   "source": [
    "##  release year vs Collection"
   ]
  },
  {
   "cell_type": "code",
   "execution_count": 104,
   "id": "3dd7f407",
   "metadata": {},
   "outputs": [
    {
     "data": {
      "image/png": "[encoded data removed]",
      "text/plain": [
       "<Figure size 2160x720 with 1 Axes>"
      ]
     },
     "metadata": {
      "needs_background": "light"
     },
     "output_type": "display_data"
    }
   ],
   "source": [
    "plt.figure(figsize = (30,10))\n",
    "sns.barplot(x = 'Release_Year', y = 'Collection',data = data)\n",
    "plt.title(\"Release Year Vs Collection\")\n",
    "plt.show()"
   ]
  },
  {
   "cell_type": "code",
   "execution_count": null,
   "id": "eabf991b",
   "metadata": {},
   "outputs": [],
   "source": []
  },
  {
   "cell_type": "markdown",
   "id": "2b7b7a15",
   "metadata": {},
   "source": [
    "## 2.4 Average rating for each director"
   ]
  },
  {
   "cell_type": "code",
   "execution_count": 105,
   "id": "845f78f8",
   "metadata": {},
   "outputs": [
    {
     "data": {
      "text/plain": [
       "Director\n",
       "Francis Ford Coppola    8.60\n",
       "Roman Polanski          8.50\n",
       "Roger Allers            8.50\n",
       "Tony Kaye               8.50\n",
       "Christopher Nolan       8.35\n",
       "                        ... \n",
       "Steven E. de Souza      4.00\n",
       "Bo Welch                4.00\n",
       "Pitof                   3.40\n",
       "Joseph Sargent          3.00\n",
       "Jason Friedberg         2.15\n",
       "Name: Rating, Length: 342, dtype: float64"
      ]
     },
     "execution_count": 105,
     "metadata": {},
     "output_type": "execute_result"
    }
   ],
   "source": [
    "data.groupby('Director')['Rating'].mean().sort_values(ascending = False)"
   ]
  },
  {
   "cell_type": "code",
   "execution_count": null,
   "id": "247e8f72",
   "metadata": {},
   "outputs": [],
   "source": []
  },
  {
   "cell_type": "markdown",
   "id": "4df033ab",
   "metadata": {},
   "source": [
    "## 2.5 Top 14 lengthy movies  and its Duration"
   ]
  },
  {
   "cell_type": "code",
   "execution_count": 106,
   "id": "255394ad",
   "metadata": {},
   "outputs": [
    {
     "data": {
      "text/html": [
       "<div>\n",
       "<style scoped>\n",
       "    .dataframe tbody tr th:only-of-type {\n",
       "        vertical-align: middle;\n",
       "    }\n",
       "\n",
       "    .dataframe tbody tr th {\n",
       "        vertical-align: top;\n",
       "    }\n",
       "\n",
       "    .dataframe thead th {\n",
       "        text-align: right;\n",
       "    }\n",
       "</style>\n",
       "<table border=\"1\" class=\"dataframe\">\n",
       "  <thead>\n",
       "    <tr style=\"text-align: right;\">\n",
       "      <th></th>\n",
       "      <th>Duration</th>\n",
       "    </tr>\n",
       "    <tr>\n",
       "      <th>Title</th>\n",
       "      <th></th>\n",
       "    </tr>\n",
       "  </thead>\n",
       "  <tbody>\n",
       "    <tr>\n",
       "      <th>Gone with the Wind</th>\n",
       "      <td>238</td>\n",
       "    </tr>\n",
       "    <tr>\n",
       "      <th>The Godfather Part II</th>\n",
       "      <td>202</td>\n",
       "    </tr>\n",
       "    <tr>\n",
       "      <th>The Lord of the Rings: The Return of the King</th>\n",
       "      <td>201</td>\n",
       "    </tr>\n",
       "    <tr>\n",
       "      <th>Titanic</th>\n",
       "      <td>194</td>\n",
       "    </tr>\n",
       "    <tr>\n",
       "      <th>Gandhi</th>\n",
       "      <td>191</td>\n",
       "    </tr>\n",
       "    <tr>\n",
       "      <th>Grindhouse</th>\n",
       "      <td>191</td>\n",
       "    </tr>\n",
       "    <tr>\n",
       "      <th>The Green Mile</th>\n",
       "      <td>189</td>\n",
       "    </tr>\n",
       "    <tr>\n",
       "      <th>King Kong</th>\n",
       "      <td>187</td>\n",
       "    </tr>\n",
       "    <tr>\n",
       "      <th>Pearl Harbor</th>\n",
       "      <td>183</td>\n",
       "    </tr>\n",
       "    <tr>\n",
       "      <th>The Lord of the Rings: The Two Towers</th>\n",
       "      <td>179</td>\n",
       "    </tr>\n",
       "    <tr>\n",
       "      <th>The Lord of the Rings: The Fellowship of the Ring</th>\n",
       "      <td>178</td>\n",
       "    </tr>\n",
       "    <tr>\n",
       "      <th>Braveheart</th>\n",
       "      <td>178</td>\n",
       "    </tr>\n",
       "    <tr>\n",
       "      <th>The Longest Day</th>\n",
       "      <td>178</td>\n",
       "    </tr>\n",
       "    <tr>\n",
       "      <th>The Godfather</th>\n",
       "      <td>175</td>\n",
       "    </tr>\n",
       "  </tbody>\n",
       "</table>\n",
       "</div>"
      ],
      "text/plain": [
       "                                                   Duration\n",
       "Title                                                      \n",
       "Gone with the Wind                                      238\n",
       "The Godfather Part II                                   202\n",
       "The Lord of the Rings: The Return of the King           201\n",
       "Titanic                                                 194\n",
       "Gandhi                                                  191\n",
       "Grindhouse                                              191\n",
       "The Green Mile                                          189\n",
       "King Kong                                               187\n",
       "Pearl Harbor                                            183\n",
       "The Lord of the Rings: The Two Towers                   179\n",
       "The Lord of the Rings: The Fellowship of the Ring       178\n",
       "Braveheart                                              178\n",
       "The Longest Day                                         178\n",
       "The Godfather                                           175"
      ]
     },
     "execution_count": 106,
     "metadata": {},
     "output_type": "execute_result"
    }
   ],
   "source": [
    "top_14=data.nlargest(14,'Duration')[['Title','Duration']].set_index('Title')\n",
    "top_14"
   ]
  },
  {
   "cell_type": "code",
   "execution_count": null,
   "id": "b19bf04c",
   "metadata": {},
   "outputs": [],
   "source": []
  },
  {
   "cell_type": "code",
   "execution_count": 107,
   "id": "e091924a",
   "metadata": {},
   "outputs": [
    {
     "data": {
      "image/png": "[encoded data removed]",
      "text/plain": [
       "<Figure size 432x288 with 1 Axes>"
      ]
     },
     "metadata": {
      "needs_background": "light"
     },
     "output_type": "display_data"
    }
   ],
   "source": [
    "sns.barplot(x = 'Duration',y = top_14.index,data = top_14)\n",
    "plt.show()"
   ]
  },
  {
   "cell_type": "code",
   "execution_count": null,
   "id": "f6795279",
   "metadata": {},
   "outputs": [],
   "source": []
  },
  {
   "cell_type": "markdown",
   "id": "d5db761e",
   "metadata": {},
   "source": [
    "## 2.6 Top 14 highest movie collections"
   ]
  },
  {
   "cell_type": "code",
   "execution_count": 108,
   "id": "e13bab54",
   "metadata": {},
   "outputs": [
    {
     "data": {
      "text/html": [
       "<div>\n",
       "<style scoped>\n",
       "    .dataframe tbody tr th:only-of-type {\n",
       "        vertical-align: middle;\n",
       "    }\n",
       "\n",
       "    .dataframe tbody tr th {\n",
       "        vertical-align: top;\n",
       "    }\n",
       "\n",
       "    .dataframe thead th {\n",
       "        text-align: right;\n",
       "    }\n",
       "</style>\n",
       "<table border=\"1\" class=\"dataframe\">\n",
       "  <thead>\n",
       "    <tr style=\"text-align: right;\">\n",
       "      <th></th>\n",
       "      <th>Collection</th>\n",
       "    </tr>\n",
       "    <tr>\n",
       "      <th>Title</th>\n",
       "      <th></th>\n",
       "    </tr>\n",
       "  </thead>\n",
       "  <tbody>\n",
       "    <tr>\n",
       "      <th>Avatar</th>\n",
       "      <td>760.51</td>\n",
       "    </tr>\n",
       "    <tr>\n",
       "      <th>Titanic</th>\n",
       "      <td>659.33</td>\n",
       "    </tr>\n",
       "    <tr>\n",
       "      <th>The Dark Knight</th>\n",
       "      <td>534.86</td>\n",
       "    </tr>\n",
       "    <tr>\n",
       "      <th>Star Wars: Episode I - The Phantom Menace</th>\n",
       "      <td>474.54</td>\n",
       "    </tr>\n",
       "    <tr>\n",
       "      <th>Shrek 2</th>\n",
       "      <td>436.47</td>\n",
       "    </tr>\n",
       "    <tr>\n",
       "      <th>E.T. the Extra-Terrestrial</th>\n",
       "      <td>435.11</td>\n",
       "    </tr>\n",
       "    <tr>\n",
       "      <th>Pirates of the Caribbean: Dead Man's Chest</th>\n",
       "      <td>423.32</td>\n",
       "    </tr>\n",
       "    <tr>\n",
       "      <th>The Lion King</th>\n",
       "      <td>422.78</td>\n",
       "    </tr>\n",
       "    <tr>\n",
       "      <th>Spider-Man</th>\n",
       "      <td>403.71</td>\n",
       "    </tr>\n",
       "    <tr>\n",
       "      <th>Jurassic Park</th>\n",
       "      <td>402.45</td>\n",
       "    </tr>\n",
       "    <tr>\n",
       "      <th>Finding Nemo</th>\n",
       "      <td>380.84</td>\n",
       "    </tr>\n",
       "    <tr>\n",
       "      <th>Star Wars: Episode III - Revenge of the Sith</th>\n",
       "      <td>380.26</td>\n",
       "    </tr>\n",
       "    <tr>\n",
       "      <th>The Lord of the Rings: The Return of the King</th>\n",
       "      <td>377.85</td>\n",
       "    </tr>\n",
       "    <tr>\n",
       "      <th>Spider-Man 2</th>\n",
       "      <td>373.59</td>\n",
       "    </tr>\n",
       "  </tbody>\n",
       "</table>\n",
       "</div>"
      ],
      "text/plain": [
       "                                               Collection\n",
       "Title                                                    \n",
       "Avatar                                             760.51\n",
       "Titanic                                            659.33\n",
       "The Dark Knight                                    534.86\n",
       "Star Wars: Episode I - The Phantom Menace          474.54\n",
       "Shrek 2                                            436.47\n",
       "E.T. the Extra-Terrestrial                         435.11\n",
       "Pirates of the Caribbean: Dead Man's Chest         423.32\n",
       "The Lion King                                      422.78\n",
       "Spider-Man                                         403.71\n",
       "Jurassic Park                                      402.45\n",
       "Finding Nemo                                       380.84\n",
       "Star Wars: Episode III - Revenge of the Sith       380.26\n",
       "The Lord of the Rings: The Return of the King      377.85\n",
       "Spider-Man 2                                       373.59"
      ]
     },
     "execution_count": 108,
     "metadata": {},
     "output_type": "execute_result"
    }
   ],
   "source": [
    "top_14_colle = data.nlargest(14,'Collection')[['Title','Collection']].set_index('Title')\n",
    "top_14_colle"
   ]
  },
  {
   "cell_type": "code",
   "execution_count": 109,
   "id": "70f00481",
   "metadata": {},
   "outputs": [
    {
     "data": {
      "image/png": "[encoded data removed]",
      "text/plain": [
       "<Figure size 432x288 with 1 Axes>"
      ]
     },
     "metadata": {
      "needs_background": "light"
     },
     "output_type": "display_data"
    }
   ],
   "source": [
    "sns.barplot(x= 'Collection',y =top_14_colle.index,data=top_14_colle)\n",
    "plt.title('Top 14 Highest Movie Collections')\n",
    "plt.show()"
   ]
  },
  {
   "cell_type": "markdown",
   "id": "f63a77da",
   "metadata": {},
   "source": [
    "## 2.7 Most popular movies according to collection"
   ]
  },
  {
   "cell_type": "code",
   "execution_count": 149,
   "id": "dd474a87",
   "metadata": {},
   "outputs": [
    {
     "data": {
      "text/plain": [
       "46    Avatar\n",
       "Name: Title, dtype: object"
      ]
     },
     "execution_count": 149,
     "metadata": {},
     "output_type": "execute_result"
    }
   ],
   "source": [
    "data[data['Collection'].max()==data['Collection']]['Title']"
   ]
  },
  {
   "cell_type": "code",
   "execution_count": null,
   "id": "3841de68",
   "metadata": {},
   "outputs": [],
   "source": []
  },
  {
   "cell_type": "code",
   "execution_count": null,
   "id": "ab48e73e",
   "metadata": {},
   "outputs": [],
   "source": []
  },
  {
   "cell_type": "code",
   "execution_count": null,
   "id": "06355523",
   "metadata": {},
   "outputs": [],
   "source": []
  },
  {
   "cell_type": "markdown",
   "id": "2bf0ce94",
   "metadata": {},
   "source": [
    "## 2.8 Average rating for  movies Year wise\n"
   ]
  },
  {
   "cell_type": "code",
   "execution_count": 111,
   "id": "f89a602e",
   "metadata": {},
   "outputs": [
    {
     "data": {
      "text/plain": [
       "Release_Year\n",
       "1972    9.200000\n",
       "1977    8.600000\n",
       "1971    8.300000\n",
       "1939    8.200000\n",
       "1974    8.200000\n",
       "1975    8.150000\n",
       "1976    8.100000\n",
       "1968    8.033333\n",
       "1964    7.750000\n",
       "1991    7.600000\n",
       "1994    7.516667\n",
       "1940    7.500000\n",
       "1973    7.466667\n",
       "1962    7.450000\n",
       "Name: Rating, dtype: float64"
      ]
     },
     "execution_count": 111,
     "metadata": {},
     "output_type": "execute_result"
    }
   ],
   "source": [
    "data.groupby('Release_Year')['Rating'].mean().sort_values(ascending = False).head(14)"
   ]
  },
  {
   "cell_type": "code",
   "execution_count": null,
   "id": "fa273736",
   "metadata": {},
   "outputs": [],
   "source": []
  },
  {
   "cell_type": "markdown",
   "id": "783ad278",
   "metadata": {},
   "source": [
    "## 2.9 Does Rating Is Effecting Collections"
   ]
  },
  {
   "cell_type": "code",
   "execution_count": 112,
   "id": "4a7a41bc",
   "metadata": {},
   "outputs": [
    {
     "data": {
      "image/png": "[encoded data removed]",
      "text/plain": [
       "<Figure size 1080x360 with 1 Axes>"
      ]
     },
     "metadata": {
      "needs_background": "light"
     },
     "output_type": "display_data"
    }
   ],
   "source": [
    "plt.figure(figsize=(15,5))\n",
    "sns.scatterplot(x= 'Rating', y = 'Collection',data = data)\n",
    "plt.show()"
   ]
  },
  {
   "cell_type": "code",
   "execution_count": null,
   "id": "36d65784",
   "metadata": {},
   "outputs": [],
   "source": []
  },
  {
   "cell_type": "code",
   "execution_count": null,
   "id": "72403442",
   "metadata": {},
   "outputs": [],
   "source": [
    " "
   ]
  },
  {
   "cell_type": "code",
   "execution_count": null,
   "id": "b6d0312f",
   "metadata": {},
   "outputs": [],
   "source": []
  },
  {
   "cell_type": "code",
   "execution_count": null,
   "id": "a063077c",
   "metadata": {},
   "outputs": [],
   "source": []
  },
  {
   "cell_type": "markdown",
   "id": "f4040590",
   "metadata": {},
   "source": [
    "## 3 MULTI VARIENT ANALYSIS"
   ]
  },
  {
   "cell_type": "code",
   "execution_count": null,
   "id": "0205621b",
   "metadata": {},
   "outputs": [],
   "source": []
  },
  {
   "cell_type": "markdown",
   "id": "7bdb1632",
   "metadata": {},
   "source": [
    "### 3.1 Display top 14 highest rated movies with its directors"
   ]
  },
  {
   "cell_type": "code",
   "execution_count": null,
   "id": "c90ad2bf",
   "metadata": {},
   "outputs": [],
   "source": []
  },
  {
   "cell_type": "code",
   "execution_count": 113,
   "id": "62c45c54",
   "metadata": {},
   "outputs": [
    {
     "data": {
      "text/html": [
       "<div>\n",
       "<style scoped>\n",
       "    .dataframe tbody tr th:only-of-type {\n",
       "        vertical-align: middle;\n",
       "    }\n",
       "\n",
       "    .dataframe tbody tr th {\n",
       "        vertical-align: top;\n",
       "    }\n",
       "\n",
       "    .dataframe thead th {\n",
       "        text-align: right;\n",
       "    }\n",
       "</style>\n",
       "<table border=\"1\" class=\"dataframe\">\n",
       "  <thead>\n",
       "    <tr style=\"text-align: right;\">\n",
       "      <th></th>\n",
       "      <th>Rating</th>\n",
       "      <th>Director</th>\n",
       "    </tr>\n",
       "    <tr>\n",
       "      <th>Title</th>\n",
       "      <th></th>\n",
       "      <th></th>\n",
       "    </tr>\n",
       "  </thead>\n",
       "  <tbody>\n",
       "    <tr>\n",
       "      <th>The Shawshank Redemption</th>\n",
       "      <td>9.3</td>\n",
       "      <td>Frank Darabont</td>\n",
       "    </tr>\n",
       "    <tr>\n",
       "      <th>The Godfather</th>\n",
       "      <td>9.2</td>\n",
       "      <td>Francis Ford Coppola</td>\n",
       "    </tr>\n",
       "    <tr>\n",
       "      <th>The Dark Knight</th>\n",
       "      <td>9.0</td>\n",
       "      <td>Christopher Nolan</td>\n",
       "    </tr>\n",
       "    <tr>\n",
       "      <th>The Lord of the Rings: The Return of the King</th>\n",
       "      <td>9.0</td>\n",
       "      <td>Peter Jackson</td>\n",
       "    </tr>\n",
       "    <tr>\n",
       "      <th>The Godfather Part II</th>\n",
       "      <td>9.0</td>\n",
       "      <td>Francis Ford Coppola</td>\n",
       "    </tr>\n",
       "    <tr>\n",
       "      <th>Pulp Fiction</th>\n",
       "      <td>8.9</td>\n",
       "      <td>Quentin Tarantino</td>\n",
       "    </tr>\n",
       "    <tr>\n",
       "      <th>Forrest Gump</th>\n",
       "      <td>8.8</td>\n",
       "      <td>Robert Zemeckis</td>\n",
       "    </tr>\n",
       "    <tr>\n",
       "      <th>The Lord of the Rings: The Fellowship of the Ring</th>\n",
       "      <td>8.8</td>\n",
       "      <td>Peter Jackson</td>\n",
       "    </tr>\n",
       "    <tr>\n",
       "      <th>Fight Club</th>\n",
       "      <td>8.8</td>\n",
       "      <td>David Fincher</td>\n",
       "    </tr>\n",
       "    <tr>\n",
       "      <th>Inception</th>\n",
       "      <td>8.8</td>\n",
       "      <td>Christopher Nolan</td>\n",
       "    </tr>\n",
       "    <tr>\n",
       "      <th>The Lord of the Rings: The Two Towers</th>\n",
       "      <td>8.8</td>\n",
       "      <td>Peter Jackson</td>\n",
       "    </tr>\n",
       "    <tr>\n",
       "      <th>Goodfellas</th>\n",
       "      <td>8.7</td>\n",
       "      <td>Martin Scorsese</td>\n",
       "    </tr>\n",
       "    <tr>\n",
       "      <th>The Matrix</th>\n",
       "      <td>8.7</td>\n",
       "      <td>Lana Wachowski</td>\n",
       "    </tr>\n",
       "    <tr>\n",
       "      <th>The Empire Strikes Back</th>\n",
       "      <td>8.7</td>\n",
       "      <td>Irvin Kershner</td>\n",
       "    </tr>\n",
       "  </tbody>\n",
       "</table>\n",
       "</div>"
      ],
      "text/plain": [
       "                                                   Rating  \\\n",
       "Title                                                       \n",
       "The Shawshank Redemption                              9.3   \n",
       "The Godfather                                         9.2   \n",
       "The Dark Knight                                       9.0   \n",
       "The Lord of the Rings: The Return of the King         9.0   \n",
       "The Godfather Part II                                 9.0   \n",
       "Pulp Fiction                                          8.9   \n",
       "Forrest Gump                                          8.8   \n",
       "The Lord of the Rings: The Fellowship of the Ring     8.8   \n",
       "Fight Club                                            8.8   \n",
       "Inception                                             8.8   \n",
       "The Lord of the Rings: The Two Towers                 8.8   \n",
       "Goodfellas                                            8.7   \n",
       "The Matrix                                            8.7   \n",
       "The Empire Strikes Back                               8.7   \n",
       "\n",
       "                                                               Director  \n",
       "Title                                                                    \n",
       "The Shawshank Redemption                                 Frank Darabont  \n",
       "The Godfather                                      Francis Ford Coppola  \n",
       "The Dark Knight                                       Christopher Nolan  \n",
       "The Lord of the Rings: The Return of the King             Peter Jackson  \n",
       "The Godfather Part II                              Francis Ford Coppola  \n",
       "Pulp Fiction                                          Quentin Tarantino  \n",
       "Forrest Gump                                            Robert Zemeckis  \n",
       "The Lord of the Rings: The Fellowship of the Ring         Peter Jackson  \n",
       "Fight Club                                                David Fincher  \n",
       "Inception                                             Christopher Nolan  \n",
       "The Lord of the Rings: The Two Towers                     Peter Jackson  \n",
       "Goodfellas                                              Martin Scorsese  \n",
       "The Matrix                                               Lana Wachowski  \n",
       "The Empire Strikes Back                                  Irvin Kershner  "
      ]
     },
     "execution_count": 113,
     "metadata": {},
     "output_type": "execute_result"
    }
   ],
   "source": [
    "top_high_rated_titles=data.nlargest(14,'Rating')[['Title','Rating','Director']].set_index('Title')\n",
    "top_high_rated_titles"
   ]
  },
  {
   "cell_type": "code",
   "execution_count": null,
   "id": "aeefc3b5",
   "metadata": {},
   "outputs": [],
   "source": []
  },
  {
   "cell_type": "code",
   "execution_count": 114,
   "id": "e882c572",
   "metadata": {},
   "outputs": [
    {
     "data": {
      "image/png": "[encoded data removed]",
      "text/plain": [
       "<Figure size 432x288 with 1 Axes>"
      ]
     },
     "metadata": {
      "needs_background": "light"
     },
     "output_type": "display_data"
    }
   ],
   "source": [
    "sns.barplot(x = 'Rating',y = top_high_rated_titles.index,data=top_high_rated_titles,hue='Director',dodge=False)\n",
    "plt.legend(bbox_to_anchor=(1,1),loc= 2 )\n",
    "plt.title('Top 14 Highly Rated movies with Directors')\n",
    "plt.show()"
   ]
  },
  {
   "cell_type": "markdown",
   "id": "6f54ea3a",
   "metadata": {},
   "source": [
    "### Finding the corellation between complete data"
   ]
  },
  {
   "cell_type": "code",
   "execution_count": 115,
   "id": "2a509b2b",
   "metadata": {},
   "outputs": [
    {
     "data": {
      "text/html": [
       "<div>\n",
       "<style scoped>\n",
       "    .dataframe tbody tr th:only-of-type {\n",
       "        vertical-align: middle;\n",
       "    }\n",
       "\n",
       "    .dataframe tbody tr th {\n",
       "        vertical-align: top;\n",
       "    }\n",
       "\n",
       "    .dataframe thead th {\n",
       "        text-align: right;\n",
       "    }\n",
       "</style>\n",
       "<table border=\"1\" class=\"dataframe\">\n",
       "  <thead>\n",
       "    <tr style=\"text-align: right;\">\n",
       "      <th></th>\n",
       "      <th>Release_Year</th>\n",
       "      <th>Duration</th>\n",
       "      <th>Collection</th>\n",
       "      <th>Rating</th>\n",
       "      <th>Votes</th>\n",
       "    </tr>\n",
       "  </thead>\n",
       "  <tbody>\n",
       "    <tr>\n",
       "      <th>Release_Year</th>\n",
       "      <td>1.000000</td>\n",
       "      <td>-0.064396</td>\n",
       "      <td>0.084211</td>\n",
       "      <td>-0.236348</td>\n",
       "      <td>-0.002180</td>\n",
       "    </tr>\n",
       "    <tr>\n",
       "      <th>Duration</th>\n",
       "      <td>-0.064396</td>\n",
       "      <td>1.000000</td>\n",
       "      <td>0.302773</td>\n",
       "      <td>0.436951</td>\n",
       "      <td>0.479195</td>\n",
       "    </tr>\n",
       "    <tr>\n",
       "      <th>Collection</th>\n",
       "      <td>0.084211</td>\n",
       "      <td>0.302773</td>\n",
       "      <td>1.000000</td>\n",
       "      <td>0.222788</td>\n",
       "      <td>0.452336</td>\n",
       "    </tr>\n",
       "    <tr>\n",
       "      <th>Rating</th>\n",
       "      <td>-0.236348</td>\n",
       "      <td>0.436951</td>\n",
       "      <td>0.222788</td>\n",
       "      <td>1.000000</td>\n",
       "      <td>0.646815</td>\n",
       "    </tr>\n",
       "    <tr>\n",
       "      <th>Votes</th>\n",
       "      <td>-0.002180</td>\n",
       "      <td>0.479195</td>\n",
       "      <td>0.452336</td>\n",
       "      <td>0.646815</td>\n",
       "      <td>1.000000</td>\n",
       "    </tr>\n",
       "  </tbody>\n",
       "</table>\n",
       "</div>"
      ],
      "text/plain": [
       "              Release_Year  Duration  Collection    Rating     Votes\n",
       "Release_Year      1.000000 -0.064396    0.084211 -0.236348 -0.002180\n",
       "Duration         -0.064396  1.000000    0.302773  0.436951  0.479195\n",
       "Collection        0.084211  0.302773    1.000000  0.222788  0.452336\n",
       "Rating           -0.236348  0.436951    0.222788  1.000000  0.646815\n",
       "Votes            -0.002180  0.479195    0.452336  0.646815  1.000000"
      ]
     },
     "execution_count": 115,
     "metadata": {},
     "output_type": "execute_result"
    }
   ],
   "source": [
    "data.corr()"
   ]
  },
  {
   "cell_type": "code",
   "execution_count": null,
   "id": "3f6ca80c",
   "metadata": {},
   "outputs": [],
   "source": []
  },
  {
   "cell_type": "code",
   "execution_count": 116,
   "id": "b683fc87",
   "metadata": {},
   "outputs": [
    {
     "data": {
      "text/plain": [
       "<AxesSubplot:>"
      ]
     },
     "execution_count": 116,
     "metadata": {},
     "output_type": "execute_result"
    },
    {
     "data": {
      "image/png": "[encoded data removed]",
      "text/plain": [
       "<Figure size 432x288 with 2 Axes>"
      ]
     },
     "metadata": {
      "needs_background": "light"
     },
     "output_type": "display_data"
    }
   ],
   "source": [
    "sns.heatmap(data.corr(),annot = True)"
   ]
  },
  {
   "cell_type": "code",
   "execution_count": null,
   "id": "62a2a7a3",
   "metadata": {},
   "outputs": [],
   "source": []
  },
  {
   "cell_type": "markdown",
   "id": "6e605588",
   "metadata": {},
   "source": [
    "## Senerio"
   ]
  },
  {
   "cell_type": "markdown",
   "id": "6d312b8b",
   "metadata": {},
   "source": [
    "#### senerio-1"
   ]
  },
  {
   "cell_type": "code",
   "execution_count": 117,
   "id": "2b6d06f7",
   "metadata": {},
   "outputs": [
    {
     "data": {
      "text/html": [
       "<div>\n",
       "<style scoped>\n",
       "    .dataframe tbody tr th:only-of-type {\n",
       "        vertical-align: middle;\n",
       "    }\n",
       "\n",
       "    .dataframe tbody tr th {\n",
       "        vertical-align: top;\n",
       "    }\n",
       "\n",
       "    .dataframe thead th {\n",
       "        text-align: right;\n",
       "    }\n",
       "</style>\n",
       "<table border=\"1\" class=\"dataframe\">\n",
       "  <thead>\n",
       "    <tr style=\"text-align: right;\">\n",
       "      <th></th>\n",
       "      <th>Title</th>\n",
       "      <th>Release_Year</th>\n",
       "      <th>Duration</th>\n",
       "      <th>Collection</th>\n",
       "      <th>Genre</th>\n",
       "      <th>Director</th>\n",
       "      <th>Rating</th>\n",
       "      <th>Votes</th>\n",
       "    </tr>\n",
       "  </thead>\n",
       "  <tbody>\n",
       "    <tr>\n",
       "      <th>46</th>\n",
       "      <td>Avatar</td>\n",
       "      <td>2009</td>\n",
       "      <td>162</td>\n",
       "      <td>760.51</td>\n",
       "      <td>Action, Adventure, Fantasy</td>\n",
       "      <td>James Cameron</td>\n",
       "      <td>7.8</td>\n",
       "      <td>1215930</td>\n",
       "    </tr>\n",
       "  </tbody>\n",
       "</table>\n",
       "</div>"
      ],
      "text/plain": [
       "     Title  Release_Year  Duration  Collection                       Genre  \\\n",
       "46  Avatar          2009       162      760.51  Action, Adventure, Fantasy   \n",
       "\n",
       "         Director  Rating    Votes  \n",
       "46  James Cameron     7.8  1215930  "
      ]
     },
     "execution_count": 117,
     "metadata": {},
     "output_type": "execute_result"
    }
   ],
   "source": [
    "data[(data['Duration'] >= 150) & (data['Rating'] >= 7) & data['Director'].str.contains('James Cameron') & (data['Genre'].str.contains('Adventure'))]"
   ]
  },
  {
   "cell_type": "code",
   "execution_count": null,
   "id": "a87f430b",
   "metadata": {},
   "outputs": [],
   "source": []
  },
  {
   "cell_type": "markdown",
   "id": "d98f258a",
   "metadata": {},
   "source": [
    "#### senerio - 2"
   ]
  },
  {
   "cell_type": "code",
   "execution_count": 118,
   "id": "f3351828",
   "metadata": {},
   "outputs": [
    {
     "data": {
      "text/html": [
       "<div>\n",
       "<style scoped>\n",
       "    .dataframe tbody tr th:only-of-type {\n",
       "        vertical-align: middle;\n",
       "    }\n",
       "\n",
       "    .dataframe tbody tr th {\n",
       "        vertical-align: top;\n",
       "    }\n",
       "\n",
       "    .dataframe thead th {\n",
       "        text-align: right;\n",
       "    }\n",
       "</style>\n",
       "<table border=\"1\" class=\"dataframe\">\n",
       "  <thead>\n",
       "    <tr style=\"text-align: right;\">\n",
       "      <th></th>\n",
       "      <th>Title</th>\n",
       "      <th>Release_Year</th>\n",
       "      <th>Duration</th>\n",
       "      <th>Collection</th>\n",
       "      <th>Genre</th>\n",
       "      <th>Director</th>\n",
       "      <th>Rating</th>\n",
       "      <th>Votes</th>\n",
       "    </tr>\n",
       "  </thead>\n",
       "  <tbody>\n",
       "    <tr>\n",
       "      <th>565</th>\n",
       "      <td>The Mechanic</td>\n",
       "      <td>2011</td>\n",
       "      <td>93</td>\n",
       "      <td>29.12</td>\n",
       "      <td>Action, Crime, Thriller</td>\n",
       "      <td>Simon West</td>\n",
       "      <td>6.5</td>\n",
       "      <td>160615</td>\n",
       "    </tr>\n",
       "    <tr>\n",
       "      <th>591</th>\n",
       "      <td>The Green Hornet</td>\n",
       "      <td>2011</td>\n",
       "      <td>119</td>\n",
       "      <td>98.78</td>\n",
       "      <td>Action, Comedy, Crime</td>\n",
       "      <td>Michel Gondry</td>\n",
       "      <td>5.8</td>\n",
       "      <td>160521</td>\n",
       "    </tr>\n",
       "  </tbody>\n",
       "</table>\n",
       "</div>"
      ],
      "text/plain": [
       "                Title  Release_Year  Duration  Collection  \\\n",
       "565      The Mechanic          2011        93       29.12   \n",
       "591  The Green Hornet          2011       119       98.78   \n",
       "\n",
       "                       Genre       Director  Rating   Votes  \n",
       "565  Action, Crime, Thriller     Simon West     6.5  160615  \n",
       "591    Action, Comedy, Crime  Michel Gondry     5.8  160521  "
      ]
     },
     "execution_count": 118,
     "metadata": {},
     "output_type": "execute_result"
    }
   ],
   "source": [
    "data[(data['Duration']>60) & (data['Rating']>4 ) & (data['Release_Year']==2011)]"
   ]
  },
  {
   "cell_type": "code",
   "execution_count": null,
   "id": "8c4c34d3",
   "metadata": {},
   "outputs": [],
   "source": []
  },
  {
   "cell_type": "code",
   "execution_count": null,
   "id": "f155f2fe",
   "metadata": {},
   "outputs": [],
   "source": []
  },
  {
   "cell_type": "code",
   "execution_count": null,
   "id": "a8b2f6c8",
   "metadata": {},
   "outputs": [],
   "source": []
  },
  {
   "cell_type": "markdown",
   "id": "b1930271",
   "metadata": {},
   "source": [
    "# Thank_You "
   ]
  },
  {
   "cell_type": "code",
   "execution_count": null,
   "id": "b94a11bc",
   "metadata": {},
   "outputs": [],
   "source": []
  }
 ],
 "metadata": {
  "kernelspec": {
   "display_name": "Python 3 (ipykernel)",
   "language": "python",
   "name": "python3"
  },
  "language_info": {
   "codemirror_mode": {
    "name": "ipython",
    "version": 3
   },
   "file_extension": ".py",
   "mimetype": "text/x-python",
   "name": "python",
   "nbconvert_exporter": "python",
   "pygments_lexer": "ipython3",
   "version": "3.9.12"
  }
 },
 "nbformat": 4,
 "nbformat_minor": 5
}
